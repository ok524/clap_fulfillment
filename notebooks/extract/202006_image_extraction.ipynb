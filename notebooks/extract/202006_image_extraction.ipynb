{
 "cells": [
  {
   "cell_type": "code",
   "execution_count": 2,
   "metadata": {},
   "outputs": [],
   "source": [
    "# !pip install fitz PyMuPDF"
   ]
  },
  {
   "cell_type": "code",
   "execution_count": 5,
   "metadata": {},
   "outputs": [],
   "source": [
    "baseurl = \"./input_files\"\n",
    "output_folder = \"./output_files\""
   ]
  },
  {
   "cell_type": "code",
   "execution_count": 6,
   "metadata": {},
   "outputs": [],
   "source": [
    "import fitz\n",
    "doc = fitz.open(f\"{baseurl}/file.pdf\")\n",
    "for i in range(len(doc)):\n",
    "    for img in doc.getPageImageList(i):\n",
    "        xref = img[0]\n",
    "        pix = fitz.Pixmap(doc, xref)\n",
    "        if pix.n < 5:       # this is GRAY or RGB\n",
    "            pix.writePNG(f\"{output_folder}/p%s-%s.png\" % (i, xref))\n",
    "        else:               # CMYK: convert to RGB first\n",
    "            pix1 = fitz.Pixmap(fitz.csRGB, pix)\n",
    "            pix1.writePNG(f\"{output_folder}/p%s-%s.png\" % (i, xref))\n",
    "            pix1 = None\n",
    "        pix = None"
   ]
  },
  {
   "cell_type": "code",
   "execution_count": null,
   "metadata": {},
   "outputs": [],
   "source": []
  }
 ],
 "metadata": {
  "kernelspec": {
   "display_name": "Python 3",
   "language": "python",
   "name": "python3"
  },
  "language_info": {
   "codemirror_mode": {
    "name": "ipython",
    "version": 3
   },
   "file_extension": ".py",
   "mimetype": "text/x-python",
   "name": "python",
   "nbconvert_exporter": "python",
   "pygments_lexer": "ipython3",
   "version": "3.6.9"
  }
 },
 "nbformat": 4,
 "nbformat_minor": 4
}
