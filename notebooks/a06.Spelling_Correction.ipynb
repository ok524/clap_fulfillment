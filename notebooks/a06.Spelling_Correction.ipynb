{
 "cells": [
  {
   "cell_type": "markdown",
   "metadata": {},
   "source": [
    "# a06.Spelling Correction"
   ]
  },
  {
   "cell_type": "markdown",
   "metadata": {},
   "source": [
    "1. tokenization\n",
    "2. adist\n",
    "3. ngram\n",
    "4. suggestion"
   ]
  },
  {
   "cell_type": "code",
   "execution_count": 1,
   "metadata": {},
   "outputs": [],
   "source": [
    "# hunspell\n",
    "# https://github.com/topics/spelling-correction\n",
    "# https://github.com/tokestermw/spacy_hunspell\n",
    "# https://github.com/blatinier/pyhunspell\n",
    "# https://github.com/mammothb/symspellpy\n",
    "# sudo apt-get install libhunspell-dev"
   ]
  },
  {
   "cell_type": "code",
   "execution_count": 2,
   "metadata": {},
   "outputs": [],
   "source": [
    "# ! pip install -U hunspell"
   ]
  },
  {
   "cell_type": "code",
   "execution_count": 9,
   "metadata": {},
   "outputs": [],
   "source": [
    "from functools import wraps\n",
    "import time\n",
    "def timeit_wrapper(func):\n",
    "    # https://martinheinz.dev/blog/13\n",
    "    @wraps(func)\n",
    "    def wrapper(*args, **kwargs):\n",
    "        start = time.perf_counter()  # Alternatively, you can use time.process_time()\n",
    "        func_return_val = func(*args, **kwargs)\n",
    "        end = time.perf_counter()\n",
    "        print('{0:<10}.{1:<8} : {2:<8}'.format(func.__module__, func.__name__, end - start))\n",
    "        return func_return_val\n",
    "    return wrapper"
   ]
  },
  {
   "cell_type": "code",
   "execution_count": 3,
   "metadata": {},
   "outputs": [],
   "source": [
    "from textblob import TextBlob\n",
    "import hunspell"
   ]
  },
  {
   "cell_type": "code",
   "execution_count": 24,
   "metadata": {},
   "outputs": [],
   "source": [
    "# sudo apt-get install libhunspell-dev\n",
    "\n",
    "\"\"\"\n",
    "# dictionaries:\n",
    "- Guide for creating dictionary\n",
    "    * https://www.systutorials.com/docs/linux/man/4-hunspell/\n",
    "    * Ispell: about the /FLAGS http://manpages.ubuntu.com/manpages/bionic/man5/ispell.5.html\n",
    "    * https://www.suares.com/?page_id=25&news_id=233\n",
    "        `wc -l wordlist > mydict.dic`\n",
    "        `sort wordlist | uniq >> mydict.dic`\n",
    "\n",
    "- Use custom dictionay\n",
    "    * add_dict: https://github.com/blatinier/pyhunspell/commit/54f8317ba2d95bc7b7cc3d1c3083d6fb98d752e4\n",
    "\n",
    "- Downloads\n",
    "    * https://github.com/wooorm/dictionaries\n",
    "    * https://github.com/elastic/hunspell/blob/master/dicts/en_ZA/en_ZA.dic\n",
    "\"\"\"\n",
    "hobj = hunspell.HunSpell('/usr/share/hunspell/en_US.dic', '/usr/share/hunspell/en_US.aff')\n",
    "#hobj.add_dic(\"./mydict.dic\")"
   ]
  },
  {
   "cell_type": "code",
   "execution_count": 25,
   "metadata": {},
   "outputs": [
    {
     "name": "stdout",
     "output_type": "stream",
     "text": [
      "__main__  .test_word : 5.807600246043876e-05\n"
     ]
    },
    {
     "data": {
      "text/plain": [
       "False"
      ]
     },
     "execution_count": 25,
     "metadata": {},
     "output_type": "execute_result"
    }
   ],
   "source": [
    "@timeit_wrapper\n",
    "def test_word(hobj, word):\n",
    "    return hobj.spell(word)\n",
    "    \n",
    "test_word(hobj, 'hydroxychloroquine')"
   ]
  },
  {
   "cell_type": "code",
   "execution_count": 6,
   "metadata": {},
   "outputs": [
    {
     "data": {
      "text/plain": [
       "['training', 'ingraining', 'tinning', 'tanning', 'trading']"
      ]
     },
     "execution_count": 6,
     "metadata": {},
     "output_type": "execute_result"
    }
   ],
   "source": [
    "hobj.suggest('trainning')"
   ]
  },
  {
   "cell_type": "code",
   "execution_count": 7,
   "metadata": {},
   "outputs": [
    {
     "data": {
      "text/plain": [
       "WordList(['At', 'the', 'bottom', 'of', 'the', 'stairs', 'was', 'a', 'small', 'crowded', 'space', 'that', 'was', 'hot', 'with', 'the', 'collected', 'body', 'heat', 'It', 'smelled', 'like', 'weed', 'and', 'sweat', 'Basements', 'are', 'hard', 'places', 'to', 'blend', 'into', 'there', 'is', 'an', 'intimacy', 'to', 'this', 'kind', 'of', 'setting', 'Sittting', 'on', 'the', 'last', 'two', 'steps', 'was', 'a', 'man', 'playing', 'the', 'guitar'])"
      ]
     },
     "execution_count": 7,
     "metadata": {},
     "output_type": "execute_result"
    }
   ],
   "source": [
    "text = \"Please lok forawrd of tranning secssion\"\n",
    "\n",
    "# https://www.bootsnall.com/articles/to-live-and-die-in-l-a-los-angeles-california.html\n",
    "text = \"\"\"\n",
    "At the bottom of the stairs was a small, crowded space that was hot with the collected body heat. It smelled like weed and sweat. Basements are hard places to blend into, there is an intimacy to this kind of setting. Sittting on the last two steps was a man playing the guitar.\n",
    "\"\"\"\n",
    "wiki = TextBlob(text)\n",
    "wiki.words"
   ]
  },
  {
   "cell_type": "code",
   "execution_count": 8,
   "metadata": {},
   "outputs": [
    {
     "data": {
      "text/plain": [
       "[('At', []),\n",
       " ('the', []),\n",
       " ('bottom', []),\n",
       " ('of', []),\n",
       " ('the', []),\n",
       " ('stairs', []),\n",
       " ('was', []),\n",
       " ('a', []),\n",
       " ('small', []),\n",
       " ('crowded', []),\n",
       " ('space', []),\n",
       " ('that', []),\n",
       " ('was', []),\n",
       " ('hot', []),\n",
       " ('with', []),\n",
       " ('the', []),\n",
       " ('collected', []),\n",
       " ('body', []),\n",
       " ('heat', []),\n",
       " ('It', []),\n",
       " ('smelled', []),\n",
       " ('like', []),\n",
       " ('weed', []),\n",
       " ('and', []),\n",
       " ('sweat', []),\n",
       " ('Basements', []),\n",
       " ('are', []),\n",
       " ('hard', []),\n",
       " ('places', []),\n",
       " ('to', []),\n",
       " ('blend', []),\n",
       " ('into', []),\n",
       " ('there', []),\n",
       " ('is', []),\n",
       " ('an', []),\n",
       " ('intimacy', []),\n",
       " ('to', []),\n",
       " ('this', []),\n",
       " ('kind', []),\n",
       " ('of', []),\n",
       " ('setting', []),\n",
       " ('Sittting', ['Sitting', 'Slitting', 'Spitting', 'Splitting', 'Stetting']),\n",
       " ('on', []),\n",
       " ('the', []),\n",
       " ('last', []),\n",
       " ('two', []),\n",
       " ('steps', []),\n",
       " ('was', []),\n",
       " ('a', []),\n",
       " ('man', []),\n",
       " ('playing', []),\n",
       " ('the', []),\n",
       " ('guitar', [])]"
      ]
     },
     "execution_count": 8,
     "metadata": {},
     "output_type": "execute_result"
    }
   ],
   "source": [
    "[ (x,[]) if hobj.spell(x) else (x, hobj.suggest(x))\n",
    " for x in list(wiki.words)]"
   ]
  },
  {
   "cell_type": "code",
   "execution_count": null,
   "metadata": {},
   "outputs": [],
   "source": []
  },
  {
   "cell_type": "code",
   "execution_count": null,
   "metadata": {},
   "outputs": [],
   "source": []
  },
  {
   "cell_type": "code",
   "execution_count": null,
   "metadata": {},
   "outputs": [],
   "source": []
  }
 ],
 "metadata": {
  "kernelspec": {
   "display_name": "Python 3",
   "language": "python",
   "name": "python3"
  },
  "language_info": {
   "codemirror_mode": {
    "name": "ipython",
    "version": 3
   },
   "file_extension": ".py",
   "mimetype": "text/x-python",
   "name": "python",
   "nbconvert_exporter": "python",
   "pygments_lexer": "ipython3",
   "version": "3.6.9"
  }
 },
 "nbformat": 4,
 "nbformat_minor": 4
}
