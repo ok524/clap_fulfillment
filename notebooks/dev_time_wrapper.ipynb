{
 "cells": [
  {
   "cell_type": "code",
   "execution_count": 48,
   "metadata": {},
   "outputs": [],
   "source": [
    "## To train\n",
    "# all tokens\n",
    "# - ngram with lower_text_nopunc ==> find compount noun\n",
    "# - remove stoplist ==> find nouns\n",
    "\n",
    "# split sections by Regular Expression\n",
    "# - requirement\n",
    "# - responsibility\n",
    "# - benefit\n",
    "# - apply resume\n",
    "# - company description\n",
    "# - others\n",
    "\n",
    "# (approach 01)each the splitted section, given known category, collect features(token) belongs to\n",
    "# (approach 02)each word, how possibility belongs to each category\n",
    "\n",
    "# ==========================\n",
    "## Once got the Model\n",
    "# detect existance\n",
    "# extract part by part\n"
   ]
  },
  {
   "cell_type": "code",
   "execution_count": 93,
   "metadata": {},
   "outputs": [],
   "source": [
    "from nltk import ngrams"
   ]
  },
  {
   "cell_type": "code",
   "execution_count": 10,
   "metadata": {},
   "outputs": [
    {
     "name": "stdout",
     "output_type": "stream",
     "text": [
      "__main__  .exp      : 8.349961717613041e-07\n",
      "89.8 698.8\n"
     ]
    }
   ],
   "source": [
    "import importlib\n",
    "import util_v2\n",
    "importlib.reload(util_v2)\n",
    "from util_v2 import *\n",
    "\n",
    "from functools import wraps\n",
    "import time\n",
    "def timeit_wrapper(func):\n",
    "    # https://martinheinz.dev/blog/13\n",
    "    @wraps(func)\n",
    "    def wrapper(*args, **kwargs):\n",
    "        start = time.perf_counter()  # Alternatively, you can use time.process_time()\n",
    "        func_return_val = func(*args, **kwargs)\n",
    "        end = time.perf_counter()\n",
    "        print('{0:<10}.{1:<8} : {2:<8}'.format(func.__module__, func.__name__, end - start))\n",
    "        return func_return_val\n",
    "    return wrapper\n",
    "\n",
    "@timeit_wrapper\n",
    "def exp(x):\n",
    "    return x\n",
    "\n",
    "exp(688889)\n",
    "\n",
    "s = 89.8\n",
    "t = \"698.8\"\n",
    "print(f'{s} {t}')"
   ]
  },
  {
   "cell_type": "code",
   "execution_count": 3,
   "metadata": {},
   "outputs": [],
   "source": [
    "text = 'The incumbent will be responsible for formulating buy and product management strategies of the assigned brand(s), working closely with the Principal(s) and\\r\\n internal teams to maximize sales. \\n\\xa0\\nResponsibilities:\\n\\nResponsible for product management including product line planning and forecast, product selection and segmentation, pricing, sample and bulk order placement\\nAnalyze sales data and monitor business performance for implementation of relevant product strategies\\nAssist management to prepare annual budget on turnover and GP, and exercise budgetary control on sampling\\nMaster and schedule seasonal tradeshow, define order policy and timeline\\nClosely communicate local product needs to brands, request right and relevant product offering, negotiating trade term, payment term, subsidy or royalty, and to communicate product\\r\\n compliance requirements Monitor closely and report on the international trends of assigned brands/product lines in terms of styling, materials, technology etc., so as to maximize product potential of assigned\\r\\n brands to assist management in identifying new business opportunities or line extension of current brands\\n\\n\\xa0Requirements:\\n\\nUniversity graduate in related disciplines\\nMinimum\\xa05 years\\' (APM) / 7 years’ (PM) of buying / category management / business development experience\\xa0gained from\\r\\nfashion / footwear / accessories Strong business sense with\\xa0analytical mind\\nPro-active, result-oriented, good communication skill and able to work under pressure\\nProficient in Excel\\n\\n\\xa0\\xa0\\n\\nWe offer competitive remuneration package with\\xa0a wide range of fringe benefits including\\n\\n5-day work week\\nCNY Bonus\\nDiscretionary Bonus\\nComprehensive Medical Coverage\\nStaff Shopping Discount\\nNon-contributory Retirement Benefits Scheme\\nBirthday Leave & Gift\\n14-week Maternity Leave\\nPaternity Leave\\n\\n\\xa0\\n\\xa0\\n\\xa0\\nInterested\\r\\n parties please send resume with present and expected salary to Human Resources Department, Swire Resources Limited,\\xa012/F Kingston International Centre,\\r\\n19 Wang Chiu Road Kowloon Bay, Hong Kong\\r\\nor by fax to 2307 2357\\xa0or by\\xa0clicking the below \"Apply Now\" button.'"
   ]
  },
  {
   "cell_type": "code",
   "execution_count": 11,
   "metadata": {
    "scrolled": false
   },
   "outputs": [
    {
     "data": {
      "text/plain": [
       "{'raw_text': 'The incumbent will be responsible for formulating buy and product management strategies of the assigned brand(s), working closely with the Principal(s) and\\r\\n internal teams to maximize sales. \\n\\xa0\\nResponsibilities:\\n\\nResponsible for product management including product line planning and forecast, product selection and segmentation, pricing, sample and bulk order placement\\nAnalyze sales data and monitor business performance for implementation of relevant product strategies\\nAssist management to prepare annual budget on turnover and GP, and exercise budgetary control on sampling\\nMaster and schedule seasonal tradeshow, define order policy and timeline\\nClosely communicate local product needs to brands, request right and relevant product offering, negotiating trade term, payment term, subsidy or royalty, and to communicate product\\r\\n compliance requirements Monitor closely and report on the international trends of assigned brands/product lines in terms of styling, materials, technology etc., so as to maximize product potential of assigned\\r\\n brands to assist management in identifying new business opportunities or line extension of current brands\\n\\n\\xa0Requirements:\\n\\nUniversity graduate in related disciplines\\nMinimum\\xa05 years\\' (APM) / 7 years’ (PM) of buying / category management / business development experience\\xa0gained from\\r\\nfashion / footwear / accessories Strong business sense with\\xa0analytical mind\\nPro-active, result-oriented, good communication skill and able to work under pressure\\nProficient in Excel\\n\\n\\xa0\\xa0\\n\\nWe offer competitive remuneration package with\\xa0a wide range of fringe benefits including\\n\\n5-day work week\\nCNY Bonus\\nDiscretionary Bonus\\nComprehensive Medical Coverage\\nStaff Shopping Discount\\nNon-contributory Retirement Benefits Scheme\\nBirthday Leave & Gift\\n14-week Maternity Leave\\nPaternity Leave\\n\\n\\xa0\\n\\xa0\\n\\xa0\\nInterested\\r\\n parties please send resume with present and expected salary to Human Resources Department, Swire Resources Limited,\\xa012/F Kingston International Centre,\\r\\n19 Wang Chiu Road Kowloon Bay, Hong Kong\\r\\nor by fax to 2307 2357\\xa0or by\\xa0clicking the below \"Apply Now\" button.',\n",
       " 'period_text': 'The incumbent will be responsible for formulating buy and product management strategies of the assigned brand(s), working closely with the Principal(s) and.  internal teams to maximize sales. .  . Responsibilities:. Responsible for product management including product line planning and forecast, product selection and segmentation, pricing, sample and bulk order placement. Analyze sales data and monitor business performance for implementation of relevant product strategies. Assist management to prepare annual budget on turnover and GP, and exercise budgetary control on sampling. Master and schedule seasonal tradeshow, define order policy and timeline. Closely communicate local product needs to brands, request right and relevant product offering, negotiating trade term, payment term, subsidy or royalty, and to communicate product.  compliance requirements Monitor closely and report on the international trends of assigned brands/product lines in terms of styling, materials, technology etc., so as to maximize product potential of assigned.  brands to assist management in identifying new business opportunities or line extension of current brands.  Requirements:. University graduate in related disciplines. Minimum 5 years\\' (APM) / 7 years’ (PM) of buying / category management / business development experience gained from. fashion / footwear / accessories Strong business sense with analytical mind. Pro-active, result-oriented, good communication skill and able to work under pressure. Proficient in Excel.   . We offer competitive remuneration package with a wide range of fringe benefits including. 5-day work week. CNY Bonus. Discretionary Bonus. Comprehensive Medical Coverage. Staff Shopping Discount. Non-contributory Retirement Benefits Scheme. Birthday Leave & Gift. 14-week Maternity Leave. Paternity Leave.  .  .  . Interested.  parties please send resume with present and expected salary to Human Resources Department, Swire Resources Limited, 12/.   F Kingston International Centre,. 19 Wang Chiu Road Kowloon Bay, Hong Kong. or by fax to 2307 2357 or by clicking the below \"Apply Now\" button.',\n",
       " 'sentence_arr': ['The incumbent will be responsible for formulating buy and product management strategies of the assigned brand(s), working closely with the Principal(s) and',\n",
       "  ' internal teams to maximize sales',\n",
       "  '',\n",
       "  ' ',\n",
       "  'Responsibilities:',\n",
       "  'Responsible for product management including product line planning and forecast, product selection and segmentation, pricing, sample and bulk order placement',\n",
       "  'Analyze sales data and monitor business performance for implementation of relevant product strategies',\n",
       "  'Assist management to prepare annual budget on turnover and GP, and exercise budgetary control on sampling',\n",
       "  'Master and schedule seasonal tradeshow, define order policy and timeline',\n",
       "  'Closely communicate local product needs to brands, request right and relevant product offering, negotiating trade term, payment term, subsidy or royalty, and to communicate product',\n",
       "  ' compliance requirements Monitor closely and report on the international trends of assigned brands/product lines in terms of styling, materials, technology etc., so as to maximize product potential of assigned',\n",
       "  ' brands to assist management in identifying new business opportunities or line extension of current brands',\n",
       "  ' Requirements:',\n",
       "  'University graduate in related disciplines',\n",
       "  \"Minimum 5 years' (APM) / 7 years’ (PM) of buying / category management / business development experience gained from\",\n",
       "  'fashion / footwear / accessories Strong business sense with analytical mind',\n",
       "  'Pro-active, result-oriented, good communication skill and able to work under pressure',\n",
       "  'Proficient in Excel',\n",
       "  '  ',\n",
       "  'We offer competitive remuneration package with a wide range of fringe benefits including',\n",
       "  '5-day work week',\n",
       "  'CNY Bonus',\n",
       "  'Discretionary Bonus',\n",
       "  'Comprehensive Medical Coverage',\n",
       "  'Staff Shopping Discount',\n",
       "  'Non-contributory Retirement Benefits Scheme',\n",
       "  'Birthday Leave & Gift',\n",
       "  '14-week Maternity Leave',\n",
       "  'Paternity Leave',\n",
       "  ' ',\n",
       "  ' ',\n",
       "  ' ',\n",
       "  'Interested',\n",
       "  ' parties please send resume with present and expected salary to Human Resources Department, Swire Resources Limited, 12/',\n",
       "  '  F Kingston International Centre,',\n",
       "  '19 Wang Chiu Road Kowloon Bay, Hong Kong',\n",
       "  'or by fax to 2307 2357 or by clicking the below \"Apply Now\" button.'],\n",
       " 'lower_text': 'the incumbent will be responsible for formulating buy and product management strategies of the assigned brand(s), working closely with the principal(s) and.  internal teams to maximize sales. .  . responsibilities:. responsible for product management including product line planning and forecast, product selection and segmentation, pricing, sample and bulk order placement. analyze sales data and monitor business performance for implementation of relevant product strategies. assist management to prepare annual budget on turnover and gp, and exercise budgetary control on sampling. master and schedule seasonal tradeshow, define order policy and timeline. closely communicate local product needs to brands, request right and relevant product offering, negotiating trade term, payment term, subsidy or royalty, and to communicate product.  compliance requirements monitor closely and report on the international trends of assigned brands/product lines in terms of styling, materials, technology etc., so as to maximize product potential of assigned.  brands to assist management in identifying new business opportunities or line extension of current brands.  requirements:. university graduate in related disciplines. minimum 5 years\\' (apm) / 7 years’ (pm) of buying / category management / business development experience gained from. fashion / footwear / accessories strong business sense with analytical mind. pro-active, result-oriented, good communication skill and able to work under pressure. proficient in excel.   . we offer competitive remuneration package with a wide range of fringe benefits including. 5-day work week. cny bonus. discretionary bonus. comprehensive medical coverage. staff shopping discount. non-contributory retirement benefits scheme. birthday leave & gift. 14-week maternity leave. paternity leave.  .  .  . interested.  parties please send resume with present and expected salary to human resources department, swire resources limited, 12/.   f kingston international centre,. 19 wang chiu road kowloon bay, hong kong. or by fax to 2307 2357 or by clicking the below \"apply now\" button.',\n",
       " 'lower_text_nopunc': \"the incumbent will be responsible for formulating buy and product management strategies of the assigned brand s   working closely with the principal s  and   internal teams to maximize sales       responsibilities   responsible for product management including product line planning and forecast  product selection and segmentation  pricing  sample and bulk order placement  analyze sales data and monitor business performance for implementation of relevant product strategies  assist management to prepare annual budget on turnover and gp  and exercise budgetary control on sampling  master and schedule seasonal tradeshow  define order policy and timeline  closely communicate local product needs to brands  request right and relevant product offering  negotiating trade term  payment term  subsidy or royalty  and to communicate product   compliance requirements monitor closely and report on the international trends of assigned brands product lines in terms of styling  materials  technology etc   so as to maximize product potential of assigned   brands to assist management in identifying new business opportunities or line extension of current brands   requirements   university graduate in related disciplines  minimum 5 years'  apm    7 years’  pm  of buying   category management   business development experience gained from  fashion   footwear   accessories strong business sense with analytical mind  pro active  result oriented  good communication skill and able to work under pressure  proficient in excel      we offer competitive remuneration package with a wide range of fringe benefits including  5 day work week  cny bonus  discretionary bonus  comprehensive medical coverage  staff shopping discount  non contributory retirement benefits scheme  birthday leave   gift  14 week maternity leave  paternity leave           interested   parties please send resume with present and expected salary to human resources department  swire resources limited  12     f kingston international centre   19 wang chiu road kowloon bay  hong kong  or by fax to 2307 2357 or by clicking the below  apply now  button\",\n",
       " 'lang': 'eng'}"
      ]
     },
     "execution_count": 11,
     "metadata": {},
     "output_type": "execute_result"
    }
   ],
   "source": [
    "pt = PrepText(text)\n",
    "pt.get_variables()"
   ]
  },
  {
   "cell_type": "code",
   "execution_count": 21,
   "metadata": {},
   "outputs": [],
   "source": [
    "pt, rmv = pt.remove_stop_word(pt.get_variables()[\"lower_text\"])"
   ]
  },
  {
   "cell_type": "code",
   "execution_count": 22,
   "metadata": {},
   "outputs": [
    {
     "data": {
      "text/plain": [
       "'incumbent will responsible formulating buy product management strategies assigned brand(s), working closely principal(s) and.  internal teams maximize sales. .  . responsibilities:. responsible product management including product planning forecast, product selection segmentation, pricing, sample bulk order placement. analyze sales data monitor business performance implementation relevant product strategies. assist management prepare annual budget turnover gp, exercise budgetary control sampling. master schedule seasonal tradeshow, define order policy timeline. closely communicate local product brands, request relevant product offering, negotiating trade term, payment term, subsidy royalty, communicate product.  compliance requirements monitor closely report international trends assigned brands/product lines terms styling, materials, technology etc., maximize product potential assigned.  brands assist management identifying business opportunities extension current brands.  requirements:. university graduate disciplines. minimum 5 years\\' (apm) / 7 years’ (pm) buying / category management / business development experience gained from. fashion / footwear / accessories strong business sense analytical mind. pro-active, result-oriented, good communication skill work under pressure. proficient excel.   . offer competitive remuneration package wide range fringe benefits including. 5-day work week. cny bonus. discretionary bonus. comprehensive medical coverage. staff shopping discount. non-contributory retirement benefits scheme. birthday leave & gift. 14-week maternity leave. paternity leave.  .  .  . interested.  parties send resume expected salary human resources department, swire resources limited, 12/.   kingston international centre,. 19 wang chiu road kowloon bay, hong kong. fax 2307 2357 clicking \"apply now\" button.'"
      ]
     },
     "execution_count": 22,
     "metadata": {},
     "output_type": "execute_result"
    }
   ],
   "source": [
    "rmv"
   ]
  },
  {
   "cell_type": "code",
   "execution_count": null,
   "metadata": {},
   "outputs": [],
   "source": []
  },
  {
   "cell_type": "code",
   "execution_count": null,
   "metadata": {},
   "outputs": [],
   "source": []
  }
 ],
 "metadata": {
  "kernelspec": {
   "display_name": "Python 3",
   "language": "python",
   "name": "python3"
  },
  "language_info": {
   "codemirror_mode": {
    "name": "ipython",
    "version": 3
   },
   "file_extension": ".py",
   "mimetype": "text/x-python",
   "name": "python",
   "nbconvert_exporter": "python",
   "pygments_lexer": "ipython3",
   "version": "3.6.9"
  }
 },
 "nbformat": 4,
 "nbformat_minor": 4
}
