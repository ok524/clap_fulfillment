{
 "cells": [
  {
   "cell_type": "markdown",
   "metadata": {},
   "source": [
    "# a07.Grammer Check"
   ]
  },
  {
   "cell_type": "markdown",
   "metadata": {},
   "source": [
    "To check simple English languge grammar error.\n",
    "\n",
    "## This system\n",
    "\n",
    "**LanguageTool**\n",
    "\n",
    "An python port to call JAVA server behind. This system is modified with keeping the with spaces before and after period and comma.\n",
    "\n",
    "## Testing datasets\n",
    "#### 1. CoNLL-2014 (1312 sentences)\n",
    "\n",
    "[https://www.comp.nus.edu.sg/~nlp/conll14st.html](https://www.comp.nus.edu.sg/~nlp/conll14st.html)\n",
    "\n",
    "#### 2. JFLEG (729 sentences)\n",
    "\n",
    "[https://github.com/keisks/jfleg](https://github.com/keisks/jfleg)\n",
    "\n",
    "\n",
    "## Test methods\n",
    "#### 1. MaxMatch (M^2) Scorer\n",
    "\n",
    "[https://github.com/nusnlp/m2scorer](https://github.com/nusnlp/m2scorer)\n",
    "#### 2. GLEU\n",
    "\n",
    "Automatic Evaluation of Sentence-Level Fluency [https://www.nltk.org/_modules/nltk/translate/gleu_score.html](https://www.nltk.org/_modules/nltk/translate/gleu_score.html)\n",
    "\n",
    "## Test platform\n",
    "\n",
    "- CPU: Intel® Core™ i5 CPU M 480 @ 2.67GHz\n",
    "- RAM: 4GB\n",
    "- OS: Ubuntu 18.04 64-bit\n",
    "\n",
    "## Other Libraries\n",
    "1. https://pypi.org/project/language-check/\n",
    "\n",
    "2. https://github.com/PiyKat/Grammar-Checker\n",
    "    * Cornell Movie-Dialogs Corpus (https://github.com/PiyKat/Grammar-Checker#biased-decoding)\n",
    "\n",
    "3. https://github.com/bencmbrook/Grammar-Checker\n",
    "    * Context-Free Grammar: Hidden Markov Models, Viterbi algorithum\n",
    "\n",
    "4. https://towardsdatascience.com/essential-text-correction-process-for-nlp-tasks-f731a025fcc3"
   ]
  },
  {
   "cell_type": "code",
   "execution_count": 1,
   "metadata": {},
   "outputs": [
    {
     "name": "stdout",
     "output_type": "stream",
     "text": [
      "useLangTool.test_word : 1.0939984349533916e-06\n"
     ]
    }
   ],
   "source": [
    "#! pip install -U language-check\n",
    "from useLangTool import *"
   ]
  },
  {
   "cell_type": "markdown",
   "metadata": {},
   "source": [
    "# Dataset: CoNLL-2014 (set \"m2 example\")"
   ]
  },
  {
   "cell_type": "code",
   "execution_count": 2,
   "metadata": {},
   "outputs": [],
   "source": [
    "filepath = \"./grammar_check/m2scorer/example/\"\n",
    "\n",
    "arr_text = []\n",
    "with open(f\"{filepath}source_gold\", mode=\"r\", encoding=\"utf8\") as f:\n",
    "    text = f.read()\n",
    "    arr_text = text.split(\"\\n\\n\")"
   ]
  },
  {
   "cell_type": "code",
   "execution_count": 3,
   "metadata": {},
   "outputs": [],
   "source": [
    "# Prepare source and golden text\n",
    "coll_origin = []\n",
    "coll_correct = []\n",
    "for idx in range(0, len(arr_text)):\n",
    "    aori, acorr = correct_sent(arr_text[idx])\n",
    "    # print(arr_text[idx])\n",
    "    coll_origin.append(aori)\n",
    "    coll_correct.append(acorr)\n",
    "\n",
    "with open(\"./grammar_check/m2example.src\", mode=\"w\", encoding=\"utf8\") as f:\n",
    "    f.write(\"\\n\".join(coll_origin))\n",
    "\n",
    "with open(\"./grammar_check/m2example.ref\", mode=\"w\", encoding=\"utf8\") as f:\n",
    "    f.write(\"\\n\".join(coll_correct))"
   ]
  },
  {
   "cell_type": "code",
   "execution_count": 4,
   "metadata": {},
   "outputs": [
    {
     "name": "stdout",
     "output_type": "stream",
     "text": [
      "useLangTool.load_data : 0.000992421992123127\n",
      "useLangTool.batch_process : 5.307856676998199\n"
     ]
    }
   ],
   "source": [
    "# this system:\n",
    "a, _ = load_data(filepath=\"./grammar_check/\", src=\"m2example.src\", ref=\"m2example.ref\")\n",
    "arr_texts1, arr_texts = a\n",
    "gcoll, _ = batch_process(arr_texts1, arr_texts)\n",
    "with open(\"./grammar_check/this_system_m2example.src\", mode=\"w\", encoding=\"utf8\") as f:\n",
    "    f.write(\"\\n\".join(gcoll))"
   ]
  },
  {
   "cell_type": "markdown",
   "metadata": {},
   "source": [
    "# Dataset: CoNLL-2014 (set \"noalt/official-2014\")"
   ]
  },
  {
   "cell_type": "code",
   "execution_count": 5,
   "metadata": {},
   "outputs": [],
   "source": [
    "filepath = \"./grammar_check/conll14st-test-data/noalt/\"\n",
    "\n",
    "arr_text = []\n",
    "with open(f\"{filepath}official-2014.0.m2\", mode=\"r\", encoding=\"utf8\") as f:\n",
    "    text = f.read()\n",
    "    arr_text = text.split(\"\\n\\n\")"
   ]
  },
  {
   "cell_type": "code",
   "execution_count": 6,
   "metadata": {},
   "outputs": [],
   "source": [
    "# Prepare source and golden text\n",
    "coll_origin = []\n",
    "coll_correct = []\n",
    "for idx in range(0, len(arr_text)):\n",
    "    aori, acorr = correct_sent(arr_text[idx])\n",
    "    # print(arr_text[idx])\n",
    "    coll_origin.append(aori)\n",
    "    coll_correct.append(acorr)\n",
    "\n",
    "with open(\"./grammar_check/CoNLL-2014.src\", mode=\"w\", encoding=\"utf8\") as f:\n",
    "    f.write(\"\\n\".join(coll_origin))\n",
    "\n",
    "with open(\"./grammar_check/CoNLL-2014.ref\", mode=\"w\", encoding=\"utf8\") as f:\n",
    "    f.write(\"\\n\".join(coll_correct))"
   ]
  },
  {
   "cell_type": "code",
   "execution_count": 7,
   "metadata": {},
   "outputs": [
    {
     "name": "stdout",
     "output_type": "stream",
     "text": [
      "useLangTool.load_data : 0.0029781890043523163\n",
      "useLangTool.batch_process : 43.55223353700421\n"
     ]
    }
   ],
   "source": [
    "# this system:\n",
    "a, _ = load_data(filepath=\"./grammar_check/\", src=\"CoNLL-2014.src\", ref=\"CoNLL-2014.ref\")\n",
    "arr_texts1, arr_texts = a\n",
    "gcoll, _ = batch_process(arr_texts1, arr_texts)\n",
    "with open(\"./grammar_check/this_system_CoNLL-2014.src\", mode=\"w\", encoding=\"utf8\") as f:\n",
    "    f.write(\"\\n\".join(gcoll))"
   ]
  },
  {
   "cell_type": "markdown",
   "metadata": {},
   "source": [
    "# Evaluation accuracy (test: MaxMatch (M^2) Scorer)"
   ]
  },
  {
   "cell_type": "code",
   "execution_count": 8,
   "metadata": {},
   "outputs": [
    {
     "name": "stdout",
     "output_type": "stream",
     "text": [
      "Precision   : 0.8000\r\n",
      "Recall      : 0.8000\r\n",
      "F_0.5       : 0.8000\r\n"
     ]
    }
   ],
   "source": [
    "# self match: set \"system\"\n",
    "! python3 ./grammar_check/m2scorer/scripts/m2scorer.py \"./grammar_check/m2scorer/example/system\" \"./grammar_check/m2scorer/example/source_gold\""
   ]
  },
  {
   "cell_type": "code",
   "execution_count": 9,
   "metadata": {},
   "outputs": [
    {
     "name": "stdout",
     "output_type": "stream",
     "text": [
      "Precision   : 1.0000\r\n",
      "Recall      : 1.0000\r\n",
      "F_0.5       : 1.0000\r\n"
     ]
    }
   ],
   "source": [
    "# self match: set \"example\"\n",
    "! python3 ./grammar_check/m2scorer/scripts/m2scorer.py \"./grammar_check/m2example.ref\" \"./grammar_check/m2scorer/example/source_gold\""
   ]
  },
  {
   "cell_type": "code",
   "execution_count": 10,
   "metadata": {
    "scrolled": true
   },
   "outputs": [
    {
     "name": "stdout",
     "output_type": "stream",
     "text": [
      "Precision   : 1.0000\r\n",
      "Recall      : 0.0000\r\n",
      "F_0.5       : 0.0000\r\n"
     ]
    }
   ],
   "source": [
    "# this system: set \"example\"\n",
    "! python3 ./grammar_check/m2scorer/scripts/m2scorer.py \"./grammar_check/this_system_m2example.src\" \"./grammar_check/m2scorer/example/source_gold\""
   ]
  },
  {
   "cell_type": "code",
   "execution_count": 11,
   "metadata": {},
   "outputs": [
    {
     "name": "stdout",
     "output_type": "stream",
     "text": [
      "Precision   : 0.9069\r\n",
      "Recall      : 0.8026\r\n",
      "F_0.5       : 0.8839\r\n"
     ]
    }
   ],
   "source": [
    "# self match: set \"noalt/official-2014\"\n",
    "! python3 ./grammar_check/m2scorer/scripts/m2scorer.py \"./grammar_check/CoNLL-2014.ref\" \"./grammar_check/conll14st-test-data/noalt/official-2014.0.m2\""
   ]
  },
  {
   "cell_type": "code",
   "execution_count": 12,
   "metadata": {
    "scrolled": true
   },
   "outputs": [
    {
     "name": "stdout",
     "output_type": "stream",
     "text": [
      "Precision   : 0.2125\r\n",
      "Recall      : 0.0385\r\n",
      "F_0.5       : 0.1116\r\n"
     ]
    }
   ],
   "source": [
    "# this system: set \"noalt/official-2014\"\n",
    "! python3 ./grammar_check/m2scorer/scripts/m2scorer.py \"./grammar_check/this_system_CoNLL-2014.src\" \"./grammar_check/conll14st-test-data/noalt/official-2014.0.m2\""
   ]
  },
  {
   "cell_type": "markdown",
   "metadata": {},
   "source": [
    "## Results\n",
    "\n",
    "> F-0.5 the higher, the better.(0 means totally no correction.)\n",
    "\n",
    "System\t | \tMaxMatch (M^2) Score(F-0.5)\n",
    ":------- | --------:\n",
    "No edit\t | \t-\n",
    "CAMB14\t | \t37.33\n",
    "CAMB16\t | \t39.90\n",
    "CAMB17\t | \t51.08\n",
    "CUUI\t | \t36.79\n",
    "VT16\t | \t47.40\n",
    "AMU14\t | \t35.01\n",
    "AMU16\t | \t49.49\n",
    "NUS16\t | \t44.27\n",
    "NUS17\t | \t53.14\n",
    "NUS18\t | \t54.79\n",
    "Nested-RNN-seq2seq\t | \t45.15\n",
    "Back-CNN-seq2seq\t | \t49.00\n",
    "Adapted-transformer\t | \t55.80\n",
    "SMT-NMT hybrid\t | \t56.25\n",
    "Base convolutional seq2seq\t | \t57.95\n",
    "Base + FB learning\t | \t61.34\n",
    "Base + FB learning and inference\t | \t60.00\n",
    "LanguageTool **This system** | 11.16"
   ]
  },
  {
   "cell_type": "markdown",
   "metadata": {},
   "source": [
    "<hr>"
   ]
  },
  {
   "cell_type": "markdown",
   "metadata": {},
   "source": [
    "# Dataset: JFLEG (set \"dev\")"
   ]
  },
  {
   "cell_type": "code",
   "execution_count": 13,
   "metadata": {
    "scrolled": true
   },
   "outputs": [
    {
     "name": "stdout",
     "output_type": "stream",
     "text": [
      "useLangTool.load_data : 0.293081975003588\n",
      "useLangTool.batch_process : 22.521676500997273\n"
     ]
    }
   ],
   "source": [
    "# dev\n",
    "a, _ = load_data(filepath=\"./grammar_check/jfleg/dev/\", src=\"dev.src\", ref=\"dev.ref0\")\n",
    "arr_texts1, arr_texts = a\n",
    "gcoll, _ = batch_process(arr_texts1, arr_texts)\n",
    "with open(\"./grammar_check/this_system_dev.src\", mode=\"w\", encoding=\"utf8\") as f:\n",
    "    f.write(\"\\n\".join(gcoll))"
   ]
  },
  {
   "cell_type": "markdown",
   "metadata": {},
   "source": [
    "# Dataset: JFLEG (set \"test\")"
   ]
  },
  {
   "cell_type": "code",
   "execution_count": 14,
   "metadata": {},
   "outputs": [
    {
     "name": "stdout",
     "output_type": "stream",
     "text": [
      "useLangTool.load_data : 0.25506660700193606\n",
      "useLangTool.batch_process : 21.152872982012923\n"
     ]
    }
   ],
   "source": [
    "# test\n",
    "a, _ = load_data(filepath=\"./grammar_check/jfleg/test/\", src=\"test.src\", ref=\"test.ref0\")\n",
    "arr_texts1, arr_texts = a\n",
    "gcoll, _ = batch_process(arr_texts1, arr_texts)\n",
    "with open(\"./grammar_check/this_system_test.src\", mode=\"w\", encoding=\"utf8\") as f:\n",
    "    f.write(\"\\n\".join(gcoll))"
   ]
  },
  {
   "cell_type": "markdown",
   "metadata": {},
   "source": [
    "# Evaluation accuracy (test: GLEU)"
   ]
  },
  {
   "cell_type": "code",
   "execution_count": 15,
   "metadata": {},
   "outputs": [
    {
     "name": "stdout",
     "output_type": "stream",
     "text": [
      "Running GLEU...\n",
      "./grammar_check/jfleg/dev/dev.ref3\n",
      "[['0.659302', '0.011223', '(0.637,0.681)']]\n"
     ]
    }
   ],
   "source": [
    "# self match: dev\n",
    "! python3 ./grammar_check/jfleg/eval/gleu.py -r ./grammar_check/jfleg/dev/dev.ref[0-3] -s ./grammar_check/jfleg/dev/dev.src --hyp ./grammar_check/jfleg/dev/dev.ref3"
   ]
  },
  {
   "cell_type": "code",
   "execution_count": 16,
   "metadata": {
    "scrolled": true
   },
   "outputs": [
    {
     "name": "stdout",
     "output_type": "stream",
     "text": [
      "Running GLEU...\n",
      "./grammar_check/this_system_dev.src\n",
      "[['0.453275', '0.009164', '(0.435,0.471)']]\n"
     ]
    }
   ],
   "source": [
    "# this system: dev\n",
    "! python3 ./grammar_check/jfleg/eval/gleu.py -r ./grammar_check/jfleg/dev/dev.ref[0-3] -s ./grammar_check/jfleg/dev/dev.src --hyp ./grammar_check/this_system_dev.src"
   ]
  },
  {
   "cell_type": "code",
   "execution_count": 17,
   "metadata": {},
   "outputs": [
    {
     "name": "stdout",
     "output_type": "stream",
     "text": [
      "Running GLEU...\n",
      "./grammar_check/jfleg/test/test.ref3\n",
      "[['0.728818', '0.009252', '(0.711,0.747)']]\n"
     ]
    }
   ],
   "source": [
    "# self match: test\n",
    "! python3 ./grammar_check/jfleg/eval/gleu.py -r ./grammar_check/jfleg/test/test.ref[0-3] -s ./grammar_check/jfleg/test/test.src --hyp ./grammar_check/jfleg/test/test.ref3"
   ]
  },
  {
   "cell_type": "code",
   "execution_count": 18,
   "metadata": {},
   "outputs": [
    {
     "name": "stdout",
     "output_type": "stream",
     "text": [
      "Running GLEU...\n",
      "./grammar_check/this_system_test.src\n",
      "[['0.491532', '0.008335', '(0.475,0.508)']]\n"
     ]
    }
   ],
   "source": [
    "# this system: test\n",
    "! python3 ./grammar_check/jfleg/eval/gleu.py -r ./grammar_check/jfleg/test/test.ref[0-3] -s ./grammar_check/jfleg/test/test.src --hyp ./grammar_check/this_system_test.src"
   ]
  },
  {
   "cell_type": "markdown",
   "metadata": {},
   "source": [
    "## Results\n",
    "\n",
    "> GLEU the higher, the better\n",
    "\n",
    "N.B. Sytems with asterisk (*) are tuned on different data. \n",
    "\n",
    "System                     | GLEU (dev) | GLEU (test)\n",
    "---------------------------------------- | :--------: | :---------:\n",
    "[Ge et al. (2018)](https://arxiv.org/pdf/1807.01270.pdf)         |  N/A | 62.42\n",
    "[Grundkiewicz and Junczys-Dowmunt (2018)](https://arxiv.org/pdf/1804.05945.pdf)         |  N/A | 61.50\n",
    "[Junczys-Dowmunt et al. (2018)](https://arxiv.org/pdf/1804.05940.pdf)         |  N/A | 59.90\n",
    "[Chollampatt and Ng (2018)](https://arxiv.org/pdf/1801.08831.pdf)         |  52.48 | 57.47\n",
    "[Chollampatt and Ng (2017)](http://www.aclweb.org/anthology/W17-5037)         |  51.01 | 56.78\n",
    "[Xie et al. (2018)*](http://www.aclweb.org/anthology/N18-1057)         |  N/A | 56.20\n",
    "[Sakaguchi et al. (2017)](https://arxiv.org/pdf/1707.00299.pdf)         |  49.82 | 53.98\n",
    "[Ji et al. (2017)*](http://aclweb.org/anthology/P/P17/P17-1070.pdf)      |  48.93 | 53.41\n",
    "[Yuan and Briscoe (2016)* ](http://www.aclweb.org/anthology/N16-1042)   |  47.20 | 52.05\n",
    "[Junczys-Dowmunt and Grundkiewicz (2016) ](https://www.aclweb.org/anthology/D/D16/D16-1161.pdf) |  49.74 | 51.46\n",
    "[Chollampatt et al. (2016)* ](https://aclweb.org/anthology/D/D16/D16-1195.pdf) |  46.27     | 50.13\n",
    "LanguageTool (2020) **This system** | 45.32 | 49.15\n",
    "[Felice et al. (2014)* ](http://www.aclweb.org/anthology/W14-1702)      |  42.81 | 46.04\n",
    "=================================== | ========== | ==========\n",
    "SOURCE    |  38.21 | 40.54\n",
    "REFERENCE |  55.26 | 62.37"
   ]
  },
  {
   "cell_type": "markdown",
   "metadata": {},
   "source": [
    "Courtney Napoles, Keisuke Sakaguchi and Joel Tetreault. (EACL 2017): JFLEG: A Fluency Corpus and Benchmark for Grammatical Error Correction. In Proceedings of the 15th Conference of the European Chapter of the Association for Computational Linguistics. Valencia, Spain. April 03-07, 2017.\n",
    "\n",
    "Michael Heilman, Aoife Cahill, Nitin Madnani, Melissa Lopez, Matthew Mulholland, and Joel Tetreault. (ACL 2014): Predicting Grammaticality on an Ordinal Scale. In Proceedings of the Association for Computational Linguistics. Baltimore, MD, USA. June 23-25, 2014."
   ]
  },
  {
   "cell_type": "markdown",
   "metadata": {},
   "source": [
    "<hr>"
   ]
  },
  {
   "cell_type": "markdown",
   "metadata": {},
   "source": [
    "# Evaluate time complexity\n",
    "- time spent for all rows\n",
    "- time spent in 1 rows for 10 times, take average\n",
    "- time spent in 10 rows for 10 times, take average\n",
    "- time spent in 100 rows for 10 times, take average\n",
    "- time spent in 500 rows for 10 times, take average"
   ]
  },
  {
   "cell_type": "markdown",
   "metadata": {},
   "source": [
    "dataset                     | min Time(s)  | max Time(s)\n",
    "---------------------------------------- | :--------: | :---------:\n",
    "JFLEG: dev | 21 | 31\n",
    "JFLEG: test | 21 | 29\n",
    "CoNLL-2014: official-2014.0.m2 | 38.42 | 39.69"
   ]
  },
  {
   "cell_type": "code",
   "execution_count": 19,
   "metadata": {},
   "outputs": [
    {
     "name": "stdout",
     "output_type": "stream",
     "text": [
      "useLangTool.load_data : 0.002185174002079293\n"
     ]
    }
   ],
   "source": [
    "import random\n",
    "a, _ = load_data(filepath=\"./grammar_check/jfleg/test/\", src=\"test.src\", ref=\"test.ref0\")\n",
    "arr_texts1, arr_texts = a\n",
    "durations = []"
   ]
  },
  {
   "cell_type": "code",
   "execution_count": 20,
   "metadata": {
    "scrolled": true
   },
   "outputs": [
    {
     "name": "stdout",
     "output_type": "stream",
     "text": [
      "useLangTool.batch_process : 0.03864745500322897\n",
      "useLangTool.batch_process : 0.032126423000590876\n",
      "useLangTool.batch_process : 0.026771745993755758\n",
      "useLangTool.batch_process : 0.030432576008024625\n",
      "useLangTool.batch_process : 0.03782075199706014\n",
      "useLangTool.batch_process : 0.04788685899984557\n",
      "useLangTool.batch_process : 0.03309501700277906\n",
      "useLangTool.batch_process : 0.030575526994653046\n",
      "useLangTool.batch_process : 0.029101879001245834\n",
      "useLangTool.batch_process : 0.022385649994248524\n",
      "Average: 0.03416799580008956 sec.\n"
     ]
    }
   ],
   "source": [
    "# 1 row\n",
    "rows_size = 1\n",
    "repeat_times = 10\n",
    "\n",
    "start = time.perf_counter()\n",
    "for idx in range(repeat_times):\n",
    "    random.shuffle(arr_texts1)\n",
    "    gcoll = batch_process(arr_texts1[:rows_size], arr_texts[:rows_size])\n",
    "end = time.perf_counter()\n",
    "\n",
    "duration = (end - start) / repeat_times\n",
    "durations.append(duration)\n",
    "print(f\"Average: {duration} sec.\")"
   ]
  },
  {
   "cell_type": "code",
   "execution_count": 21,
   "metadata": {},
   "outputs": [
    {
     "name": "stdout",
     "output_type": "stream",
     "text": [
      "useLangTool.batch_process : 0.2868796060065506\n",
      "useLangTool.batch_process : 0.27564186400559265\n",
      "useLangTool.batch_process : 0.29716904798988253\n",
      "useLangTool.batch_process : 0.2883976520097349\n",
      "useLangTool.batch_process : 0.282445306002046\n",
      "useLangTool.batch_process : 0.2721817299898248\n",
      "useLangTool.batch_process : 0.2648299419961404\n",
      "useLangTool.batch_process : 0.29059570700337645\n",
      "useLangTool.batch_process : 0.30138484500639606\n",
      "useLangTool.batch_process : 0.2662557760049822\n",
      "Average: 0.28399435820028884 sec.\n"
     ]
    }
   ],
   "source": [
    "# 10 rows\n",
    "rows_size = 10\n",
    "repeat_times = 10\n",
    "\n",
    "start = time.perf_counter()\n",
    "for idx in range(repeat_times):\n",
    "    random.shuffle(arr_texts1)\n",
    "    gcoll = batch_process(arr_texts1[:rows_size], arr_texts[:rows_size])\n",
    "end = time.perf_counter()\n",
    "\n",
    "duration = (end - start) / repeat_times\n",
    "durations.append(duration)\n",
    "print(f\"Average: {duration} sec.\")"
   ]
  },
  {
   "cell_type": "code",
   "execution_count": 22,
   "metadata": {},
   "outputs": [
    {
     "name": "stdout",
     "output_type": "stream",
     "text": [
      "useLangTool.batch_process : 2.815785026003141\n",
      "useLangTool.batch_process : 2.751420877990313\n",
      "useLangTool.batch_process : 2.9506414710049285\n",
      "useLangTool.batch_process : 2.8600559440092184\n",
      "useLangTool.batch_process : 2.8053769249963807\n",
      "useLangTool.batch_process : 2.9383934439974837\n",
      "useLangTool.batch_process : 3.0228734650008846\n",
      "useLangTool.batch_process : 3.1248114930058364\n",
      "useLangTool.batch_process : 2.847776562004583\n",
      "useLangTool.batch_process : 2.9706771729979664\n",
      "Average: 2.9102340147990615 sec.\n"
     ]
    }
   ],
   "source": [
    "# 100 rows\n",
    "rows_size = 100\n",
    "repeat_times = 10\n",
    "\n",
    "start = time.perf_counter()\n",
    "for idx in range(repeat_times):\n",
    "    random.shuffle(arr_texts1)\n",
    "    gcoll = batch_process(arr_texts1[:rows_size], arr_texts[:rows_size])\n",
    "end = time.perf_counter()\n",
    "\n",
    "duration = (end - start) / repeat_times\n",
    "durations.append(duration)\n",
    "print(f\"Average: {duration} sec.\")"
   ]
  },
  {
   "cell_type": "code",
   "execution_count": 23,
   "metadata": {},
   "outputs": [
    {
     "name": "stdout",
     "output_type": "stream",
     "text": [
      "useLangTool.batch_process : 14.844766808993882\n",
      "useLangTool.batch_process : 13.901045325997984\n",
      "useLangTool.batch_process : 13.771462859993335\n",
      "useLangTool.batch_process : 13.735505282995291\n",
      "useLangTool.batch_process : 13.925917529006256\n",
      "useLangTool.batch_process : 13.7657887940004\n",
      "useLangTool.batch_process : 13.644358473989996\n",
      "useLangTool.batch_process : 14.12613372899068\n",
      "useLangTool.batch_process : 13.892056167998817\n",
      "useLangTool.batch_process : 13.890444916993147\n",
      "Average: 13.950992989599763 sec.\n"
     ]
    }
   ],
   "source": [
    "# 500 rows\n",
    "rows_size = 500\n",
    "repeat_times = 10\n",
    "\n",
    "start = time.perf_counter()\n",
    "for idx in range(repeat_times):\n",
    "    random.shuffle(arr_texts1)\n",
    "    gcoll = batch_process(arr_texts1[:rows_size], arr_texts[:rows_size])\n",
    "end = time.perf_counter()\n",
    "\n",
    "duration = (end - start) / repeat_times\n",
    "durations.append(duration)\n",
    "print(f\"Average: {duration} sec.\")"
   ]
  },
  {
   "cell_type": "code",
   "execution_count": 24,
   "metadata": {
    "scrolled": true
   },
   "outputs": [
    {
     "data": {
      "image/png": "[encoded data removed]",
      "text/plain": [
       "<Figure size 432x288 with 1 Axes>"
      ]
     },
     "metadata": {
      "needs_background": "light"
     },
     "output_type": "display_data"
    }
   ],
   "source": [
    "import matplotlib.pyplot as plt\n",
    "plt.plot([1, 10, 100, 500], durations, 'bo',\n",
    "         [1, 10, 100, 500], durations, 'k',\n",
    "         [1, 10*50], [0.03, 0.3*50], 'b--')\n",
    "plt.ylabel('Average time spent (seconds)')\n",
    "plt.show()"
   ]
  },
  {
   "cell_type": "markdown",
   "metadata": {},
   "source": [
    "Time complexity: O(n), linear"
   ]
  },
  {
   "cell_type": "code",
   "execution_count": 25,
   "metadata": {},
   "outputs": [],
   "source": [
    "# End"
   ]
  },
  {
   "cell_type": "code",
   "execution_count": 26,
   "metadata": {},
   "outputs": [
    {
     "data": {
      "text/plain": [
       "[]"
      ]
     },
     "execution_count": 26,
     "metadata": {},
     "output_type": "execute_result"
    }
   ],
   "source": [
    "text = \"Giant otters is an apex predator.\"\n",
    "tool.check(text)"
   ]
  },
  {
   "cell_type": "code",
   "execution_count": null,
   "metadata": {},
   "outputs": [],
   "source": []
  }
 ],
 "metadata": {
  "kernelspec": {
   "display_name": "Python 3",
   "language": "python",
   "name": "python3"
  },
  "language_info": {
   "codemirror_mode": {
    "name": "ipython",
    "version": 3
   },
   "file_extension": ".py",
   "mimetype": "text/x-python",
   "name": "python",
   "nbconvert_exporter": "python",
   "pygments_lexer": "ipython3",
   "version": "3.6.9"
  }
 },
 "nbformat": 4,
 "nbformat_minor": 4
}
