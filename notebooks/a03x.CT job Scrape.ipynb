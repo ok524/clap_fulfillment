{
 "cells": [
  {
   "cell_type": "code",
   "execution_count": null,
   "metadata": {},
   "outputs": [],
   "source": [
    "#1 curl 'https://www.ctgoodjobs.hk/jobs/design/interior' -H 'User-Agent: Mozilla/5.0 (X11; Ubuntu; Linux x86_64; rv:74.0) Gecko/20100101 Firefox/74.0' -H 'Accept: text/html,application/xhtml+xml,application/xml;q=0.9,image/webp,*/*;q=0.8' -H 'Accept-Language: en-US,en;q=0.5' --compressed -H 'Referer: https://www.ctgoodjobs.hk/' -H 'DNT: 1' -H 'Connection: keep-alive' -H 'Cookie: visitor_id=20200330082550133343805; CTID=B207438E7296994CC696AE273EB54AC0F6F77A92555107BD; visitor%5Fid=20200330082550133343805; ASPSESSIONIDSEDAQBQS=NDKKCPHAGOKKEOMFEMFAFIHD; _pk_id.16.90a3=f36134f350bdd6ae.1585527958.1.1585528538.1585527958.; _pk_ref.16.90a3=%5B%22%22%2C%22%22%2C1585527958%2C%22https%3A%2F%2Fwww.google.com%2F%22%5D; _pk_ses.16.90a3=1; _AISID_=20191123101037885F0E85CD2600C570DA0BC6C43826BF; hket_tm=202003300925; joblistSearchId=263126116; c%5Fjoblistmode=previewlist; c=AL; priorityJobId263125559=06391057%2C06386829; CookieAgree=1; priorityJobId263125602=; priorityJobId263125634=; priorityJobId263125687=; priorityJobId263126116=06386829' -H 'Upgrade-Insecure-Requests: 1' -H 'Pragma: no-cache' -H 'Cache-Control: no-cache'\n",
    "\n",
    "#2 curl 'https://www.ctgoodjobs.hk/job/assistant-interior-designer/06395972/ajaxpreview' -H 'User-Agent: Mozilla/5.0 (X11; Ubuntu; Linux x86_64; rv:74.0) Gecko/20100101 Firefox/74.0' -H 'Accept: */*' -H 'Accept-Language: en-US,en;q=0.5' --compressed -H 'X-Requested-With: XMLHttpRequest' -H 'DNT: 1' -H 'Connection: keep-alive' -H 'Referer: https://www.ctgoodjobs.hk/jobs/design/interior' -H 'Cookie: visitor_id=20200330082550133343805; CTID=B207438E7296994CC696AE273EB54AC0F6F77A92555107BD; visitor%5Fid=20200330082550133343805; ASPSESSIONIDSEDAQBQS=NDKKCPHAGOKKEOMFEMFAFIHD; _pk_id.16.90a3=f36134f350bdd6ae.1585527958.1.1585528767.1585527958.; _pk_ref.16.90a3=%5B%22%22%2C%22%22%2C1585527958%2C%22https%3A%2F%2Fwww.google.com%2F%22%5D; _pk_ses.16.90a3=1; _AISID_=20191123101037885F0E85CD2600C570DA0BC6C43826BF; hket_tm=202003300925; joblistSearchId=263126530; c%5Fjoblistmode=previewlist; c=AL; priorityJobId263125559=06391057%2C06386829; CookieAgree=1; priorityJobId263125602=; priorityJobId263125634=; priorityJobId263125687=; priorityJobId263126116=06386829; priorityJobId263126530=06386829' -H 'Pragma: no-cache' -H 'Cache-Control: no-cache'\n",
    "\n",
    "#3 curl 'https://www.ctgoodjobs.hk/ajax/ctjob/listing/view_more.asp?keywordForQuickSearch=&fulltext=JC&industry=&job_area=121&company_id=&company_name=&location=&tag=&tag_job_id=&education=&emp_type=&grade=&benefit_icon=&page=2&salary_from=&salary_to=&salary_type=&experience=&hotjob_category=&sp_crit=&result_uid=263126530&joblistmode=previewlist' -H 'User-Agent: Mozilla/5.0 (X11; Ubuntu; Linux x86_64; rv:74.0) Gecko/20100101 Firefox/74.0' -H 'Accept: */*' -H 'Accept-Language: en-US,en;q=0.5' --compressed -H 'X-Requested-With: XMLHttpRequest' -H 'DNT: 1' -H 'Connection: keep-alive' -H 'Referer: https://www.ctgoodjobs.hk/jobs/design/interior'   -H 'Cookie: visitor_id=20200330082550133343805; CTID=B207438E7296994CC696AE273EB54AC0F6F77A92555107BD; visitor%5Fid=20200330082550133343805; ASPSESSIONIDSEDAQBQS=NDKKCPHAGOKKEOMFEMFAFIHD; _pk_id.16.90a3=f36134f350bdd6ae.1585527958.1.1585528767.1585527958.; _pk_ref.16.90a3=%5B%22%22%2C%22%22%2C1585527958%2C%22https%3A%2F%2Fwww.google.com%2F%22%5D; _pk_ses.16.90a3=1; _AISID_=20191123101037885F0E85CD2600C570DA0BC6C43826BF; hket_tm=202003300925; joblistSearchId=263126530; c%5Fjoblistmode=previewlist; c=AL; priorityJobId263125559=06391057%2C06386829; CookieAgree=1; priorityJobId263125602=; priorityJobId263125634=; priorityJobId263125687=; priorityJobId263126116=06386829; priorityJobId263126530=06386829' -H 'Pragma: no-cache' -H 'Cache-Control: no-cache'\n",
    "#4 curl 'https://www.ctgoodjobs.hk/ajax/ctjob/listing/view_more.asp?keywordForQuickSearch=&fulltext=JC&industry=&job_area=121&company_id=&company_name=&location=&tag=&tag_job_id=&education=&emp_type=&grade=&benefit_icon=&page=3&salary_from=&salary_to=&salary_type=&experience=&hotjob_category=&sp_crit=&result_uid=263126530&joblistmode=previewlist' -H 'User-Agent: Mozilla/5.0 (X11; Ubuntu; Linux x86_64; rv:74.0) Gecko/20100101 Firefox/74.0' -H 'Accept: */*' -H 'Accept-Language: en-US,en;q=0.5' --compressed -H 'X-Requested-With: XMLHttpRequest' -H 'DNT: 1' -H 'Connection: keep-alive' -H 'Referer: https://www.ctgoodjobs.hk/jobs/design/interior/2' -H 'Cookie: visitor_id=20200330082550133343805; CTID=B207438E7296994CC696AE273EB54AC0F6F77A92555107BD; visitor%5Fid=20200330082550133343805; ASPSESSIONIDSEDAQBQS=NDKKCPHAGOKKEOMFEMFAFIHD; _pk_id.16.90a3=f36134f350bdd6ae.1585527958.1.1585528882.1585527958.; _pk_ref.16.90a3=%5B%22%22%2C%22%22%2C1585527958%2C%22https%3A%2F%2Fwww.google.com%2F%22%5D; _pk_ses.16.90a3=1; _AISID_=20191123101037885F0E85CD2600C570DA0BC6C43826BF; hket_tm=202003300925; joblistSearchId=263126530; c%5Fjoblistmode=previewlist; c=AL; priorityJobId263125559=06391057%2C06386829; CookieAgree=1; priorityJobId263125602=; priorityJobId263125634=; priorityJobId263125687=; priorityJobId263126116=06386829; priorityJobId263126530=06386829' -H 'Pragma: no-cache' -H 'Cache-Control: no-cache'\n",
    "#5 curl 'https://www.ctgoodjobs.hk/ajax/ctjob/listing/view_more.asp?keywordForQuickSearch=&fulltext=JC&industry=&job_area=121&company_id=&company_name=&location=&tag=&tag_job_id=&education=&emp_type=&grade=&benefit_icon=&page=4&salary_from=&salary_to=&salary_type=&experience=&hotjob_category=&sp_crit=&result_uid=263126530&joblistmode=previewlist' -H 'User-Agent: Mozilla/5.0 (X11; Ubuntu; Linux x86_64; rv:74.0) Gecko/20100101 Firefox/74.0' -H 'Accept: */*' -H 'Accept-Language: en-US,en;q=0.5' --compressed -H 'X-Requested-With: XMLHttpRequest' -H 'DNT: 1' -H 'Connection: keep-alive' -H 'Referer: https://www.ctgoodjobs.hk/jobs/design/interior/3' -H 'Cookie: visitor_id=20200330082550133343805; CTID=B207438E7296994CC696AE273EB54AC0F6F77A92555107BD; visitor%5Fid=20200330082550133343805; ASPSESSIONIDSEDAQBQS=NDKKCPHAGOKKEOMFEMFAFIHD; _pk_id.16.90a3=f36134f350bdd6ae.1585527958.1.1585528954.1585527958.; _pk_ref.16.90a3=%5B%22%22%2C%22%22%2C1585527958%2C%22https%3A%2F%2Fwww.google.com%2F%22%5D; _pk_ses.16.90a3=1; _AISID_=20191123101037885F0E85CD2600C570DA0BC6C43826BF; hket_tm=202003300925; joblistSearchId=263126530; c%5Fjoblistmode=previewlist; c=AL; priorityJobId263125559=06391057%2C06386829; CookieAgree=1; priorityJobId263125602=; priorityJobId263125634=; priorityJobId263125687=; priorityJobId263126116=06386829; priorityJobId263126530=06386829' -H 'Pragma: no-cache' -H 'Cache-Control: no-cache'"
   ]
  },
  {
   "cell_type": "code",
   "execution_count": 7,
   "metadata": {},
   "outputs": [],
   "source": [
    "import requests\n",
    "from pyquery import PyQuery as pq # http://hk.uwenku.com/question/p-zlltqrmm-bhw.html"
   ]
  },
  {
   "cell_type": "code",
   "execution_count": 8,
   "metadata": {},
   "outputs": [],
   "source": [
    "s = requests.Session()"
   ]
  },
  {
   "cell_type": "code",
   "execution_count": 48,
   "metadata": {},
   "outputs": [],
   "source": [
    "def listing(sess, page=1):\n",
    "    #page = 2\n",
    "    url = f\"https://www.ctgoodjobs.hk/ajax/ctjob/listing/view_more.asp?keywordForQuickSearch=&fulltext=JC&industry=&job_area=121&company_id=&company_name=&location=&tag=&tag_job_id=&education=&emp_type=&grade=&benefit_icon=&page={page}&salary_from=&salary_to=&salary_type=&experience=&hotjob_category=&sp_crit=&result_uid=263126530&joblistmode=previewlist\"\n",
    "    r0 = sess.get(url)\n",
    "    html = r0.text\n",
    "    doc = pq(html)\n",
    "    return doc"
   ]
  },
  {
   "cell_type": "code",
   "execution_count": 64,
   "metadata": {},
   "outputs": [],
   "source": [
    "def find_link(sess, doc, idx=0, selector=\".jl-title h2 a\", attr=\"href\"):\n",
    "    for i, item in enumerate(doc(selector).items()):\n",
    "        if idx == i:\n",
    "            print(f'{i} {idx} - {item.attr[attr]}')\n",
    "            innerhtml = pq(one_job(sess, item.attr[attr]))(\".jd-detail-wrapper\").text()\n",
    "            print(innerhtml)\n",
    "            break"
   ]
  },
  {
   "cell_type": "code",
   "execution_count": 78,
   "metadata": {},
   "outputs": [],
   "source": [
    "def one_job(sess, url_partial, baseurl=\"https://www.ctgoodjobs.hk\"):\n",
    "    url = f\"{baseurl}{url_partial}\" # https://www.ctgoodjobs.hk/job/assistant-interior-designer/06395972/ajaxpreview\n",
    "    r0 = sess.get(url)\n",
    "    r0.encoding = 'utf-8' # some old html: 'big5-hkscs'\n",
    "    html = r0.text\n",
    "    # doc = pq(html)\n",
    "    return html"
   ]
  },
  {
   "cell_type": "code",
   "execution_count": 81,
   "metadata": {},
   "outputs": [
    {
     "name": "stdout",
     "output_type": "stream",
     "text": [
      "5 5 - /job/museum-exhibition-design-assistant/06389295\n",
      "Job ref no.: CT3124562-01#0403\n",
      "Report Print\n",
      "Posted on 2020-03-23\n",
      "Museum Exhibition Design Assistant\n",
      "Lindy Williams\n",
      "Benefits\n",
      "5-day week\n",
      "Requirement:\n",
      "A Diploma or higher qualifications from a HK Polytechnic University/Polytechnic or HK Institute of Vocational Education/Technical College/Technical Institute, or equivalent, for which at least specialized in one of the following subjects: Visual Communication Design, Advertising Design, Graphic Design, Commercial Design, Exhibition Design, Product Design, Interior Design with 10 years' relevant working experience as a full time designer\n",
      "Good command of Chinese and English\n",
      "Good knowledge in the latest version of Adobe Illustrator, Photoshop, IN-Design\n",
      "Strong in creating 3D illustrations and keen on using typography, color, drawing elements and photographs in the production of publicity material:\n",
      "Proficiency in 3D software such as Sketch Up or 3D Studio MAX and have good rendering skills\n",
      "Must have at least 2 years of museum exhibition experience\n",
      "Personal data collected are for recruitment purpose only.\n",
      "Interested candidates, please state your availability and expected salary in your resume and click Apply Now to apply for this position for a confidential discussion.\n",
      "All information collected will be kept in strict confidence and will be used for recruitment purpose only.\n",
      "Required skills\n",
      "Interior Design\n",
      "Photoshop\n",
      "Graphic Design\n",
      "3D Studio Max\n",
      "Product Design\n",
      "3D\n",
      "Illustration\n",
      "Typography\n",
      "Adobe Illustrator\n",
      "Design\n",
      "More job information\n",
      "Job ref no.\n",
      "CT3124562-01#0403\n",
      "Salary\n",
      "N/A ( Search your salary info in )\n",
      "Job Function\n",
      "Design - Graphic\n",
      "Design - Industrial / Product\n",
      "Design - Interior\n",
      "Design - Multimedia\n",
      "Design - General / Others\n",
      "Industry\n",
      "Entertainment / Recreation\n",
      "Human Resources Management / Consultancy\n",
      "Location\n",
      "Tsimshatsui\n",
      "Employment Term\n",
      "Contract\n",
      "Full-time\n",
      "Experience\n",
      "10 years - 15 years\n",
      "Career Level\n",
      "Middle management level\n",
      "Education\n",
      "Diploma or equivalent\n",
      "Asso. Deg or High Dip\n",
      "Degree\n",
      "Report Print\n",
      "Read more\n",
      "Share this job\n"
     ]
    }
   ],
   "source": [
    "find_link(s, listing(s, page=2), idx=5)"
   ]
  },
  {
   "cell_type": "code",
   "execution_count": null,
   "metadata": {},
   "outputs": [],
   "source": []
  }
 ],
 "metadata": {
  "kernelspec": {
   "display_name": "Python 3",
   "language": "python",
   "name": "python3"
  },
  "language_info": {
   "codemirror_mode": {
    "name": "ipython",
    "version": 3
   },
   "file_extension": ".py",
   "mimetype": "text/x-python",
   "name": "python",
   "nbconvert_exporter": "python",
   "pygments_lexer": "ipython3",
   "version": "3.6.9"
  }
 },
 "nbformat": 4,
 "nbformat_minor": 4
}
