{
 "cells": [
  {
   "cell_type": "code",
   "execution_count": 1,
   "metadata": {},
   "outputs": [],
   "source": [
    "import os\n",
    "import sys\n",
    "import re\n",
    "import time\n",
    "import json\n",
    "\n",
    "import numpy as np\n",
    "import pandas as pd\n",
    "import spacy\n",
    "import nltk\n",
    "from nltk.probability import FreqDist\n",
    "\n",
    "\n",
    "# from vglib import vglib2\n",
    "# vg = vglib2.Vglib()\n",
    "# vg.function_add('basicsummary', 'BasicSummary')\n",
    "\n",
    "import importlib\n",
    "import util\n",
    "importlib.reload(util)\n",
    "from util import *\n",
    "\n",
    "### Example\n",
    "# from vglib import vglib2\n",
    "# import importlib\n",
    "# importlib.reload(vglib2)\n",
    "# #from <file_module> import <Class/Function>\n",
    "# from vglib.vglib2 import Vglib"
   ]
  },
  {
   "cell_type": "code",
   "execution_count": 2,
   "metadata": {},
   "outputs": [],
   "source": [
    "nlp = spacy.load(\"en_core_web_md\")"
   ]
  },
  {
   "cell_type": "code",
   "execution_count": 3,
   "metadata": {},
   "outputs": [
    {
     "data": {
      "text/plain": [
       "'The incumbent will be responsible for formulating buy and product management strategies of the assigned brand(s), working closely with the Principal(s) and\\r\\n internal teams to maximize sales. \\n\\xa0\\nResponsibilities:\\n\\nResponsible for product management including product line planning and forecast, product selection and segmentation, pricing, sample and bulk order placement\\nAnalyze sales data and monitor business performance for implementation of relevant product strategies\\nAssist management to prepare annual budget on turnover and GP, and exercise budgetary control on sampling\\nMaster and schedule seasonal tradeshow, define order policy and timeline\\nClosely communicate local product needs to brands, request right and relevant product offering, negotiating trade term, payment term, subsidy or royalty, and to communicate product\\r\\n compliance requirements Monitor closely and report on the international trends of assigned brands/product lines in terms of styling, materials, technology etc., so as to maximize product potential of assigned\\r\\n brands to assist management in identifying new business opportunities or line extension of current brands\\n\\n\\xa0Requirements:\\n\\nUniversity graduate in related disciplines\\nMinimum\\xa05 years\\' (APM) / 7 years’ (PM) of buying / category management / business development experience\\xa0gained from\\r\\nfashion / footwear / accessories Strong business sense with\\xa0analytical mind\\nPro-active, result-oriented, good communication skill and able to work under pressure\\nProficient in Excel\\n\\n\\xa0\\xa0\\n\\nWe offer competitive remuneration package with\\xa0a wide range of fringe benefits including\\n\\n5-day work week\\nCNY Bonus\\nDiscretionary Bonus\\nComprehensive Medical Coverage\\nStaff Shopping Discount\\nNon-contributory Retirement Benefits Scheme\\nBirthday Leave & Gift\\n14-week Maternity Leave\\nPaternity Leave\\n\\n\\xa0\\n\\xa0\\n\\xa0\\nInterested\\r\\n parties please send resume with present and expected salary to Human Resources Department, Swire Resources Limited,\\xa012/F Kingston International Centre,\\r\\n19 Wang Chiu Road Kowloon Bay, Hong Kong\\r\\nor by fax to 2307 2357\\xa0or by\\xa0clicking the below \"Apply Now\" button.'"
      ]
     },
     "execution_count": 3,
     "metadata": {},
     "output_type": "execute_result"
    }
   ],
   "source": [
    "df = get_df()\n",
    "df.iloc[71][\"jobDetail\"][\"jobDescription\"]"
   ]
  },
  {
   "cell_type": "code",
   "execution_count": 4,
   "metadata": {},
   "outputs": [
    {
     "name": "stdout",
     "output_type": "stream",
     "text": [
      "['Industry', 'Function', 'Personality', 'Language', 'Qualification (academic)', 'Qualifiaction (professional)', 'Software', 'Programing Language', 'Soft Skill', 'Hard Skill', 'xxx', 'salary range min', 'salary range max']\n"
     ]
    }
   ],
   "source": [
    "df_token = load_tokens()"
   ]
  },
  {
   "cell_type": "code",
   "execution_count": 5,
   "metadata": {
    "scrolled": true
   },
   "outputs": [],
   "source": [
    "df_res = get_section_responsibility(df, df_token)"
   ]
  },
  {
   "cell_type": "code",
   "execution_count": 6,
   "metadata": {},
   "outputs": [
    {
     "name": "stdout",
     "output_type": "stream",
     "text": [
      "Successful extract Responsibility: 74 of 100\n",
      "Failed extract Responsibility: 25 of 100\n"
     ]
    }
   ],
   "source": [
    "# Count successfully extracted requirement entries\n",
    "entry_count = len(df_res)\n",
    "df_res_good = df_res[(df_res[\"hasWant\"] == True) & (df_res[\"lang\"] == \"eng\")]\n",
    "df_res_bad = df_res[df_res[\"hasWant\"] == False]\n",
    "print(\"Successful extract Responsibility: {} of {}\".format(len(df_res_good), entry_count))\n",
    "print(\"Failed extract Responsibility: {} of {}\".format(len(df_res_bad), entry_count))"
   ]
  },
  {
   "cell_type": "code",
   "execution_count": 7,
   "metadata": {},
   "outputs": [
    {
     "data": {
      "text/html": [
       "<div>\n",
       "<style scoped>\n",
       "    .dataframe tbody tr th:only-of-type {\n",
       "        vertical-align: middle;\n",
       "    }\n",
       "\n",
       "    .dataframe tbody tr th {\n",
       "        vertical-align: top;\n",
       "    }\n",
       "\n",
       "    .dataframe thead th {\n",
       "        text-align: right;\n",
       "    }\n",
       "</style>\n",
       "<table border=\"1\" class=\"dataframe\">\n",
       "  <thead>\n",
       "    <tr style=\"text-align: right;\">\n",
       "      <th></th>\n",
       "      <th>id</th>\n",
       "      <th>hasWant</th>\n",
       "      <th>raw</th>\n",
       "      <th>lang</th>\n",
       "    </tr>\n",
       "  </thead>\n",
       "  <tbody>\n",
       "    <tr>\n",
       "      <th>0</th>\n",
       "      <td>0</td>\n",
       "      <td>True</td>\n",
       "      <td>They also have sales and trading functions wit...</td>\n",
       "      <td>eng</td>\n",
       "    </tr>\n",
       "    <tr>\n",
       "      <th>1</th>\n",
       "      <td>1</td>\n",
       "      <td>True</td>\n",
       "      <td>Duties:. Overviews daily operation of a financ...</td>\n",
       "      <td>eng</td>\n",
       "    </tr>\n",
       "    <tr>\n",
       "      <th>3</th>\n",
       "      <td>3</td>\n",
       "      <td>True</td>\n",
       "      <td>Responsibilities. Handle day-to-day operations...</td>\n",
       "      <td>eng</td>\n",
       "    </tr>\n",
       "    <tr>\n",
       "      <th>4</th>\n",
       "      <td>4</td>\n",
       "      <td>True</td>\n",
       "      <td>Responsibilities: . Mainly responsible for dai...</td>\n",
       "      <td>eng</td>\n",
       "    </tr>\n",
       "    <tr>\n",
       "      <th>5</th>\n",
       "      <td>5</td>\n",
       "      <td>True</td>\n",
       "      <td>Job Responsibilities:. Handle full sets of acc...</td>\n",
       "      <td>eng</td>\n",
       "    </tr>\n",
       "    <tr>\n",
       "      <th>...</th>\n",
       "      <td>...</td>\n",
       "      <td>...</td>\n",
       "      <td>...</td>\n",
       "      <td>...</td>\n",
       "    </tr>\n",
       "    <tr>\n",
       "      <th>95</th>\n",
       "      <td>95</td>\n",
       "      <td>True</td>\n",
       "      <td>Job Responsibilities: • To assist the implemen...</td>\n",
       "      <td>eng</td>\n",
       "    </tr>\n",
       "    <tr>\n",
       "      <th>96</th>\n",
       "      <td>96</td>\n",
       "      <td>True</td>\n",
       "      <td>Responsibilities :. Reporting to the Senior Ma...</td>\n",
       "      <td>eng</td>\n",
       "    </tr>\n",
       "    <tr>\n",
       "      <th>97</th>\n",
       "      <td>97</td>\n",
       "      <td>True</td>\n",
       "      <td>Arrange and administer the correct, timely and...</td>\n",
       "      <td>eng</td>\n",
       "    </tr>\n",
       "    <tr>\n",
       "      <th>98</th>\n",
       "      <td>98</td>\n",
       "      <td>True</td>\n",
       "      <td>Summer Trainee - Corporate Communication .  . ...</td>\n",
       "      <td>eng</td>\n",
       "    </tr>\n",
       "    <tr>\n",
       "      <th>99</th>\n",
       "      <td>99</td>\n",
       "      <td>True</td>\n",
       "      <td>This role is exceptionally challenging because...</td>\n",
       "      <td>eng</td>\n",
       "    </tr>\n",
       "  </tbody>\n",
       "</table>\n",
       "<p>74 rows × 4 columns</p>\n",
       "</div>"
      ],
      "text/plain": [
       "    id  hasWant                                                raw lang\n",
       "0    0     True  They also have sales and trading functions wit...  eng\n",
       "1    1     True  Duties:. Overviews daily operation of a financ...  eng\n",
       "3    3     True  Responsibilities. Handle day-to-day operations...  eng\n",
       "4    4     True  Responsibilities: . Mainly responsible for dai...  eng\n",
       "5    5     True  Job Responsibilities:. Handle full sets of acc...  eng\n",
       "..  ..      ...                                                ...  ...\n",
       "95  95     True  Job Responsibilities: • To assist the implemen...  eng\n",
       "96  96     True  Responsibilities :. Reporting to the Senior Ma...  eng\n",
       "97  97     True  Arrange and administer the correct, timely and...  eng\n",
       "98  98     True  Summer Trainee - Corporate Communication .  . ...  eng\n",
       "99  99     True  This role is exceptionally challenging because...  eng\n",
       "\n",
       "[74 rows x 4 columns]"
      ]
     },
     "execution_count": 7,
     "metadata": {},
     "output_type": "execute_result"
    }
   ],
   "source": [
    "df_res_good"
   ]
  },
  {
   "cell_type": "code",
   "execution_count": 25,
   "metadata": {},
   "outputs": [],
   "source": [
    "idx = 49"
   ]
  },
  {
   "cell_type": "code",
   "execution_count": 26,
   "metadata": {},
   "outputs": [
    {
     "name": "stdout",
     "output_type": "stream",
     "text": [
      "49\n",
      "71\n",
      "eng\n",
      "\n",
      ">\tThe incumbent will be responsible for formulating buy and product management strategies of the assigned brand(s), working closely with the Principal(s) and.\n",
      ">\t internal teams to maximize sales.\n",
      ">\t.\n",
      ">\t .\n",
      ">\tResponsibilities:.\n",
      ">\tResponsible for product management including product line planning and forecast, product selection and segmentation, pricing, sample and bulk order placement.\n",
      ">\tAnalyze sales data and monitor business performance for implementation of relevant product strategies.\n",
      ">\tAssist management to prepare annual budget on turnover and GP, and exercise budgetary control on sampling.\n",
      ">\tMaster and schedule seasonal tradeshow, define order policy and timeline.\n",
      ">\tClosely communicate local product needs to brands, request right and relevant product offering, negotiating trade term, payment term, subsidy or royalty, and to communicate product.\n",
      ">\t compliance r.\n",
      "\n",
      "^^^^^ ^^^^^ ^^^^^ ^^^^^ ^^^^^ ^^^^^ vvvvv vvvvv vvvvv vvvvv vvvvv vvvvv\n",
      "\n",
      "The incumbent will be responsible for formulating buy and product management strategies of the assigned brand(s), working closely with the Principal(s) and.  internal teams to maximize sales. .  . Responsibilities:. Responsible for product management including product line planning and forecast, product selection and segmentation, pricing, sample and bulk order placement. Analyze sales data and monitor business performance for implementation of relevant product strategies. Assist management to prepare annual budget on turnover and GP, and exercise budgetary control on sampling. Master and schedule seasonal tradeshow, define order policy and timeline. Closely communicate local product needs to brands, request right and relevant product offering, negotiating trade term, payment term, subsidy or royalty, and to communicate product.  compliance r\n"
     ]
    }
   ],
   "source": [
    "def process_exp_year(line):\n",
    "    print(\">\\t{}\".format(line))\n",
    "    return\n",
    "\n",
    "print(idx)\n",
    "print(df_res_good.iloc[idx][\"id\"])\n",
    "print(df_res_good.iloc[idx][\"lang\"])\n",
    "print()\n",
    "\n",
    "text = df_res_good.iloc[idx][\"raw\"]\n",
    "prep_text = prep_sentence(text)\n",
    "\n",
    "arr = prep_text.split('. ')\n",
    "for i in range(len(arr)):\n",
    "    line = arr[i]\n",
    "\n",
    "    inner_arr = line.split(';')\n",
    "    if len(inner_arr) > 1:\n",
    "        for inner_idx in range(len(inner_arr)):\n",
    "            inner_line = inner_arr[inner_idx]\n",
    "            l = process_exp_year(inner_line + \".\")\n",
    "    else:\n",
    "        l = process_exp_year(line + \".\")\n",
    "\n",
    "print(\"\\n^^^^^ ^^^^^ ^^^^^ ^^^^^ ^^^^^ ^^^^^ vvvvv vvvvv vvvvv vvvvv vvvvv vvvvv\\n\")\n",
    "\n",
    "print(text)\n",
    "idx = idx + 1"
   ]
  },
  {
   "cell_type": "code",
   "execution_count": null,
   "metadata": {},
   "outputs": [],
   "source": []
  },
  {
   "cell_type": "code",
   "execution_count": null,
   "metadata": {},
   "outputs": [],
   "source": []
  },
  {
   "cell_type": "code",
   "execution_count": null,
   "metadata": {},
   "outputs": [],
   "source": []
  },
  {
   "cell_type": "code",
   "execution_count": null,
   "metadata": {},
   "outputs": [],
   "source": []
  },
  {
   "cell_type": "code",
   "execution_count": null,
   "metadata": {},
   "outputs": [],
   "source": []
  },
  {
   "cell_type": "code",
   "execution_count": 27,
   "metadata": {},
   "outputs": [],
   "source": [
    "# End"
   ]
  },
  {
   "cell_type": "code",
   "execution_count": 28,
   "metadata": {},
   "outputs": [],
   "source": [
    "def pos(text):\n",
    "    print(\"\\n\")\n",
    "    text = text.strip()\n",
    "    print(text)\n",
    "    print(\"=======================================================================\")\n",
    "    doc = nlp(text)\n",
    "    for chunk in doc.noun_chunks:\n",
    "        print(\"{}\\t{} {} {} {}\".format(\n",
    "            chunk.root.text.rjust(20),\n",
    "            chunk.root.dep_.rjust(9),\n",
    "            chunk.root.head.text.ljust(15),\n",
    "            chunk.root.head.pos_.ljust(10),\n",
    "            chunk.text.ljust(30),\n",
    "        ))\n",
    "    print(\"--- --- --- --- --- --- --- --- --- --- --- --- --- --- --- --- --- ---\")\n",
    "    for token in doc:\n",
    "        print(\"{}\\t{} {} {} {} {} {} {}\".format(\n",
    "            token.text.rjust(15),\n",
    "            token.lemma_.rjust(15),\n",
    "            token.pos_.rjust(8),\n",
    "            token.tag_.rjust(5),\n",
    "            token.dep_.ljust(12),\n",
    "            token.shape_.ljust(6),\n",
    "            token.is_alpha,\n",
    "            token.is_stop,\n",
    "        ))\n",
    "    print(\"\\n\\n\")"
   ]
  },
  {
   "cell_type": "code",
   "execution_count": 34,
   "metadata": {},
   "outputs": [
    {
     "data": {
      "text/plain": [
       "['The incumbent will be responsible for formulating buy and product management strategies of the assigned brand(s), working closely with the Principal(s) and',\n",
       " ' internal teams to maximize sales',\n",
       " '',\n",
       " ' ',\n",
       " 'Responsibilities:',\n",
       " 'Responsible for product management including product line planning and forecast, product selection and segmentation, pricing, sample and bulk order placement',\n",
       " 'Analyze sales data and monitor business performance for implementation of relevant product strategies',\n",
       " 'Assist management to prepare annual budget on turnover and GP, and exercise budgetary control on sampling',\n",
       " 'Master and schedule seasonal tradeshow, define order policy and timeline',\n",
       " 'Closely communicate local product needs to brands, request right and relevant product offering, negotiating trade term, payment term, subsidy or royalty, and to communicate product',\n",
       " ' compliance r']"
      ]
     },
     "execution_count": 34,
     "metadata": {},
     "output_type": "execute_result"
    }
   ],
   "source": [
    "arr"
   ]
  },
  {
   "cell_type": "code",
   "execution_count": 29,
   "metadata": {},
   "outputs": [
    {
     "name": "stdout",
     "output_type": "stream",
     "text": [
      "\n",
      "\n",
      "internal teams to maximize sales\n",
      "=======================================================================\n",
      "               teams\t    nsubj maximize        VERB       internal teams                \n",
      "               sales\t     dobj maximize        VERB       sales                         \n",
      "--- --- --- --- --- --- --- --- --- --- --- --- --- --- --- --- --- ---\n",
      "       internal\t       internal      ADJ    JJ amod         xxxx   True False\n",
      "          teams\t           team     NOUN   NNS nsubj        xxxx   True False\n",
      "             to\t             to     PART    TO aux          xx     True True\n",
      "       maximize\t       maximize     VERB    VB ROOT         xxxx   True False\n",
      "          sales\t           sale     NOUN   NNS dobj         xxxx   True False\n",
      "\n",
      "\n",
      "\n"
     ]
    }
   ],
   "source": [
    "texts = arr\n",
    "pos(texts[1])"
   ]
  },
  {
   "cell_type": "code",
   "execution_count": 30,
   "metadata": {},
   "outputs": [],
   "source": [
    "def collect_np(text):\n",
    "    collection = []\n",
    "    text = text.strip()\n",
    "    text = prep_sentence(text)\n",
    "    doc = nlp(text)\n",
    "    for chunk in doc.noun_chunks:\n",
    "        collection.append(\"{}\".format(chunk.text))\n",
    "    return collection"
   ]
  },
  {
   "cell_type": "code",
   "execution_count": 31,
   "metadata": {},
   "outputs": [
    {
     "data": {
      "text/plain": [
       "['The incumbent',\n",
       " 'buy and product management strategies',\n",
       " 'internal teams',\n",
       " 'sales',\n",
       " 'Responsibilities',\n",
       " 'product management',\n",
       " 'product line planning',\n",
       " 'forecast',\n",
       " 'product selection',\n",
       " 'segmentation',\n",
       " 'pricing',\n",
       " 'sample',\n",
       " 'bulk order',\n",
       " 'placement',\n",
       " 'sales data',\n",
       " 'business performance',\n",
       " 'implementation',\n",
       " 'relevant product strategies',\n",
       " 'management',\n",
       " 'annual budget',\n",
       " 'turnover',\n",
       " 'GP',\n",
       " 'budgetary control',\n",
       " 'sampling',\n",
       " 'Master and schedule seasonal tradeshow',\n",
       " 'order policy',\n",
       " 'timeline',\n",
       " 'brands',\n",
       " 'trade term',\n",
       " 'payment term',\n",
       " 'subsidy',\n",
       " 'royalty',\n",
       " 'product',\n",
       " 'compliance r']"
      ]
     },
     "execution_count": 31,
     "metadata": {},
     "output_type": "execute_result"
    }
   ],
   "source": [
    "gcoll = []\n",
    "for text in texts:\n",
    "    gcoll.extend(collect_np(text))\n",
    "gcoll"
   ]
  },
  {
   "cell_type": "code",
   "execution_count": 32,
   "metadata": {},
   "outputs": [
    {
     "data": {
      "text/plain": [
       "FreqDist({'The incumbent': 1, 'buy and product management strategies': 1, 'internal teams': 1, 'sales': 1, 'Responsibilities': 1, 'product management': 1, 'product line planning': 1, 'forecast': 1, 'product selection': 1, 'segmentation': 1, ...})"
      ]
     },
     "execution_count": 32,
     "metadata": {},
     "output_type": "execute_result"
    }
   ],
   "source": [
    "fdist1 = FreqDist(gcoll)\n",
    "fdist1"
   ]
  },
  {
   "cell_type": "code",
   "execution_count": 33,
   "metadata": {},
   "outputs": [
    {
     "data": {
      "text/plain": [
       "[]"
      ]
     },
     "execution_count": 33,
     "metadata": {},
     "output_type": "execute_result"
    }
   ],
   "source": [
    "[x for x in fdist1.most_common(500) if str(x[0]).lower() not in stoplist and x[1] > 1]"
   ]
  },
  {
   "cell_type": "code",
   "execution_count": null,
   "metadata": {},
   "outputs": [],
   "source": []
  }
 ],
 "metadata": {
  "kernelspec": {
   "display_name": "Python 3",
   "language": "python",
   "name": "python3"
  },
  "language_info": {
   "codemirror_mode": {
    "name": "ipython",
    "version": 3
   },
   "file_extension": ".py",
   "mimetype": "text/x-python",
   "name": "python",
   "nbconvert_exporter": "python",
   "pygments_lexer": "ipython3",
   "version": "3.6.9"
  }
 },
 "nbformat": 4,
 "nbformat_minor": 2
}
