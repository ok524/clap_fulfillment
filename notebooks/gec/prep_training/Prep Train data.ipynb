{
 "cells": [
  {
   "cell_type": "code",
   "execution_count": 13,
   "metadata": {},
   "outputs": [
    {
     "name": "stdout",
     "output_type": "stream",
     "text": [
      "useLangTool.test_word : 8.170027285814285e-07\n",
      "useLangTool.test_word : 9.34000127017498e-07\n"
     ]
    }
   ],
   "source": [
    "import pandas\n",
    "import json\n",
    "import importlib\n",
    "import useLangTool\n",
    "importlib.reload(useLangTool)\n",
    "from useLangTool import *"
   ]
  },
  {
   "cell_type": "code",
   "execution_count": 14,
   "metadata": {},
   "outputs": [],
   "source": [
    "filepath = f\"./m2\"\n",
    "\n",
    "arr_text = []\n",
    "with open(f\"{filepath}/A.train.gold.bea19.m2\", mode=\"r\", encoding=\"utf8\") as f:\n",
    "    text = f.read()\n",
    "    arr_text = text.split(\"\\n\\n\")"
   ]
  },
  {
   "cell_type": "code",
   "execution_count": 16,
   "metadata": {
    "scrolled": false
   },
   "outputs": [],
   "source": [
    "# Prepare source and golden text\n",
    "coll_origin = []\n",
    "coll_correct = []\n",
    "coll_origin_asgold = []\n",
    "coll_this_system = []\n",
    "coll_score_this_system_origin = []\n",
    "coll_score_this_system_golden = []\n",
    "\n",
    "for idx in range(0, len(arr_text)):\n",
    "    aori, acorr = correct_sent(arr_text[idx])\n",
    "    # print(f\"> {idx}==>{arr_text[idx]}\")\n",
    "    coll_origin.append(aori)\n",
    "    coll_correct.append(acorr)\n",
    "    coll_origin_asgold.append(\"S \" + aori)\n",
    "\n",
    "with open(f\"./dataset/bea.src\", mode=\"w\", encoding=\"utf8\") as f:\n",
    "    f.write(\"\\n\".join(coll_origin))\n",
    "\n",
    "with open(f\"./dataset/bea.ref\", mode=\"w\", encoding=\"utf8\") as f:\n",
    "    f.write(\"\\n\".join(coll_correct))\n",
    "    \n",
    "# with open(f\"{baseurl}/CoNLL-2014_as_gold.src\", mode=\"w\", encoding=\"utf8\") as f:\n",
    "#     f.write(\"\\n\".join(coll_origin_asgold))"
   ]
  },
  {
   "cell_type": "code",
   "execution_count": null,
   "metadata": {},
   "outputs": [],
   "source": []
  }
 ],
 "metadata": {
  "kernelspec": {
   "display_name": "Python 3",
   "language": "python",
   "name": "python3"
  },
  "language_info": {
   "codemirror_mode": {
    "name": "ipython",
    "version": 3
   },
   "file_extension": ".py",
   "mimetype": "text/x-python",
   "name": "python",
   "nbconvert_exporter": "python",
   "pygments_lexer": "ipython3",
   "version": "3.6.9"
  }
 },
 "nbformat": 4,
 "nbformat_minor": 4
}
