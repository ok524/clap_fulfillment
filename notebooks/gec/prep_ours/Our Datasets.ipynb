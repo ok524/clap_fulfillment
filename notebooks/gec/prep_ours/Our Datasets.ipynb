{
 "cells": [
  {
   "cell_type": "code",
   "execution_count": 1,
   "metadata": {},
   "outputs": [],
   "source": [
    "import pandas as pd\n",
    "import math # Use math.isnan()"
   ]
  },
  {
   "cell_type": "code",
   "execution_count": 2,
   "metadata": {},
   "outputs": [
    {
     "name": "stdout",
     "output_type": "stream",
     "text": [
      "useLangTool.test_word : 6.469999789260328e-07\n"
     ]
    }
   ],
   "source": [
    "from useLangTool import *"
   ]
  },
  {
   "cell_type": "markdown",
   "metadata": {},
   "source": [
    "# From google sheet to M2"
   ]
  },
  {
   "cell_type": "code",
   "execution_count": 3,
   "metadata": {},
   "outputs": [],
   "source": [
    "glink = \"./GEC - Our datasets(wiki) - Sheet1.tsv\"\n",
    "outfilename = \"OurDataset.m2\"\n",
    "ourtestfilename = \"OurDataset_test.txt\"\n",
    "ourgoldfilename = \"OurDataset_gold.txt\"\n",
    "\n",
    "df = pd.read_csv(glink, sep=\"\\t\", encoding=\"utf8\")\n",
    "df = df[0:120]\n",
    "\n",
    "with open(outfilename, mode=\"w\", encoding=\"utf8\") as f:\n",
    "    for idx in range(0, len(df)):\n",
    "        row = list(df.iloc[idx])\n",
    "        incorr = row[1].replace(\"’\", \"'\").replace(\"'\", \" '\").replace(\".\", \" . \").replace(\", \", \" , \").replace(\"!\", \" ! \").replace(\"  \", \" \").replace(\"?\", \" ? \").strip(\"\\n\\r\\t \") # .replace(\"’s \", \" ’s \")\n",
    "        corr = row[2]\n",
    "        wc = row[3]\n",
    "\n",
    "        #print(f\"S {incorr}\")\n",
    "        f.write(f\"S {incorr}\\n\")\n",
    "\n",
    "        edits = row[4:16]\n",
    "        for edit_idx in range(len(edits)):\n",
    "            if 0 == edit_idx % 2:\n",
    "                if \"nan\" != str(edits[edit_idx]):\n",
    "                    errtype = edits[edit_idx]\n",
    "                    chg = edits[edit_idx + 1]\n",
    "                    \n",
    "                    try:\n",
    "                        pos = chg.split('|||')[0]\n",
    "                        repl = chg.split('|||')[1]\n",
    "                    except Exception as e:\n",
    "                        continue\n",
    "\n",
    "                    #print(f\"A {' '.join(pos.split(','))}|||{errtype}|||{repl}|||REQUIRED|||-NONE-|||0\")\n",
    "                    f.write(f\"A {' '.join(pos.split(','))}|||{errtype}|||{repl}|||REQUIRED|||-NONE-|||0\\n\")\n",
    "        #print()\n",
    "        f.write(f\"\\n\")\n",
    "        \n",
    "        \n",
    "#===========\n",
    "arr_incorr = []\n",
    "arr_corr = []\n",
    "\n",
    "with open(outfilename, mode=\"r\", encoding=\"utf8\") as f:\n",
    "    arr_rows = f.read().split(\"\\n\\n\")\n",
    "    for row in arr_rows:\n",
    "        tuple_tmp = correct_sent(row)\n",
    "        \n",
    "        arr_incorr.append(tuple_tmp[0])\n",
    "        arr_corr.append(tuple_tmp[1])\n",
    "#===========\n",
    "for item in list(zip(list(df[\"corr_sentence\"]), arr_corr)):\n",
    "    item0 = item[0].replace(\"’\", \"'\").replace(\"'\", \" '\").replace(\".\", \" . \").replace(\", \", \" , \").replace(\"!\", \" ! \").replace(\"?\", \" ? \").replace(\"  \", \" \").strip(\"\\n\\r\\t \")\n",
    "    if item0 != item[1]:\n",
    "        # .replace(\"’s \", \" ’s \")\n",
    "        print(item0)\n",
    "        print(item[1])\n",
    "        print()"
   ]
  },
  {
   "cell_type": "code",
   "execution_count": null,
   "metadata": {},
   "outputs": [],
   "source": []
  },
  {
   "cell_type": "code",
   "execution_count": 4,
   "metadata": {},
   "outputs": [],
   "source": [
    "with open(ourtestfilename, mode=\"w\", encoding=\"utf8\") as f:\n",
    "    f.write('\\n'.join(arr_incorr))"
   ]
  },
  {
   "cell_type": "code",
   "execution_count": 5,
   "metadata": {},
   "outputs": [],
   "source": [
    "with open(ourgoldfilename, mode=\"w\", encoding=\"utf8\") as f:\n",
    "    f.write('\\n'.join(arr_corr))"
   ]
  },
  {
   "cell_type": "code",
   "execution_count": 6,
   "metadata": {},
   "outputs": [],
   "source": [
    "df2 = df\n",
    "df2 = df2[[\"incorr_sentence\", \"corr_sentence\"]]\n",
    "df2.columns = [\"source\", \"gold\"]\n",
    "df2.to_csv(\"OurDataset_csv.csv\", index=False)"
   ]
  },
  {
   "cell_type": "code",
   "execution_count": null,
   "metadata": {},
   "outputs": [],
   "source": []
  },
  {
   "cell_type": "code",
   "execution_count": null,
   "metadata": {},
   "outputs": [],
   "source": []
  }
 ],
 "metadata": {
  "kernelspec": {
   "display_name": "Python 3",
   "language": "python",
   "name": "python3"
  },
  "language_info": {
   "codemirror_mode": {
    "name": "ipython",
    "version": 3
   },
   "file_extension": ".py",
   "mimetype": "text/x-python",
   "name": "python",
   "nbconvert_exporter": "python",
   "pygments_lexer": "ipython3",
   "version": "3.6.9"
  }
 },
 "nbformat": 4,
 "nbformat_minor": 4
}
