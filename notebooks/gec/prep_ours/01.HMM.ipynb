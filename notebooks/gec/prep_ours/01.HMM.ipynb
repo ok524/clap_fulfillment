{
 "cells": [
  {
   "cell_type": "code",
   "execution_count": null,
   "metadata": {},
   "outputs": [],
   "source": [
    "# http://nlpprogress.com/english/grammatical_error_correction.html\n",
    "# https://github.com/awasthiabhijeet/PIE\n",
    "@inproceedings{awasthi-etal-2019-parallel,\n",
    "    title = \"Parallel Iterative Edit Models for Local Sequence Transduction\",\n",
    "    author = \"Awasthi, Abhijeet  and\n",
    "      Sarawagi, Sunita  and\n",
    "      Goyal, Rasna  and\n",
    "      Ghosh, Sabyasachi  and\n",
    "      Piratla, Vihari\",\n",
    "    booktitle = \"Proceedings of the 2019 Conference on Empirical Methods in Natural Language Processing and the 9th International Joint Conference on Natural Language Processing (EMNLP-IJCNLP)\",\n",
    "    month = nov,\n",
    "    year = \"2019\",\n",
    "    address = \"Hong Kong, China\",\n",
    "    publisher = \"Association for Computational Linguistics\",\n",
    "    url = \"https://www.aclweb.org/anthology/D19-1435\",\n",
    "    doi = \"10.18653/v1/D19-1435\",\n",
    "    pages = \"4259--4269\",\n",
    "}\n",
    "\n",
    "\n",
    "\n"
   ]
  }
 ],
 "metadata": {
  "kernelspec": {
   "display_name": "Python 3",
   "language": "python",
   "name": "python3"
  },
  "language_info": {
   "codemirror_mode": {
    "name": "ipython",
    "version": 3
   },
   "file_extension": ".py",
   "mimetype": "text/x-python",
   "name": "python",
   "nbconvert_exporter": "python",
   "pygments_lexer": "ipython3",
   "version": "3.6.9"
  }
 },
 "nbformat": 4,
 "nbformat_minor": 4
}
