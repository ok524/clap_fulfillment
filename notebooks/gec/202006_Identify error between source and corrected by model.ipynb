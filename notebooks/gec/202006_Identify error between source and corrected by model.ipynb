{
 "cells": [
  {
   "cell_type": "code",
   "execution_count": null,
   "metadata": {},
   "outputs": [],
   "source": []
  },
  {
   "cell_type": "code",
   "execution_count": 1,
   "metadata": {},
   "outputs": [],
   "source": [
    "src = \"he am an boy .\"\n",
    "corrected = \"He is a boy .\""
   ]
  },
  {
   "cell_type": "code",
   "execution_count": 13,
   "metadata": {},
   "outputs": [],
   "source": [
    "def diff(src, corr):\n",
    "    src_arr = src.split(\" \")\n",
    "    src_len = len(src_arr)\n",
    "    \n",
    "    corr_arr = corr.split(\" \")\n",
    "    corr_len = len(corr_arr)\n",
    "    \n",
    "    if src_len == corr_len:\n",
    "        # word by word\n",
    "        # match tokens (unordered), locate the diff\n",
    "        diff_pairs = []\n",
    "        for idx in range(len(src_arr)):\n",
    "            ajson = {}\n",
    "            if src_arr[idx] == corr_arr[idx]:\n",
    "                # identical\n",
    "                ajson = {\n",
    "                    \"score\": 0,\n",
    "                    \"idx\": idx,\n",
    "                    \"src\": src_arr[idx],\n",
    "                    \"cor\": corr_arr[idx],\n",
    "                    \"diff\": {}\n",
    "                }\n",
    "            else:\n",
    "                # are there any place have src_arr[idx]?\n",
    "                alts = []\n",
    "                for idx_lv2 in range(len(corr_arr)):\n",
    "                    if src_arr[idx] == corr_arr[idx_lv2]:\n",
    "                        alt = {\n",
    "                            \"idx_lv2\": idx_lv2,\n",
    "                            \"cor\": corr_arr[idx_lv2]\n",
    "                        }\n",
    "                        alts.append(alt)\n",
    "                ajson = {\n",
    "                    \"score\": 1,\n",
    "                    \"idx\": idx,\n",
    "                    \"src\": src_arr[idx],\n",
    "                    \"cor\": corr_arr[idx],\n",
    "                    \"diff\": {\n",
    "                        \"idx\": idx,\n",
    "                        \"new\": corr_arr[idx]\n",
    "                    },\n",
    "                    \"alt\": alts\n",
    "                }\n",
    "            diff_pairs.append(ajson)\n",
    "        \n",
    "        # match tokens (ordered)\n",
    "    else:\n",
    "        # by tirmming\n",
    "        \n",
    "        # any singleton terms? who are they?\n",
    "        \n",
    "        pass\n",
    "    \n",
    "    return diff_pairs"
   ]
  },
  {
   "cell_type": "code",
   "execution_count": 14,
   "metadata": {},
   "outputs": [
    {
     "data": {
      "text/plain": [
       "[{'score': 1,\n",
       "  'idx': 0,\n",
       "  'src': 'he',\n",
       "  'cor': 'He',\n",
       "  'diff': {'idx': 0, 'new': 'He'},\n",
       "  'alt': []},\n",
       " {'score': 1,\n",
       "  'idx': 1,\n",
       "  'src': 'am',\n",
       "  'cor': 'is',\n",
       "  'diff': {'idx': 1, 'new': 'is'},\n",
       "  'alt': []},\n",
       " {'score': 1,\n",
       "  'idx': 2,\n",
       "  'src': 'an',\n",
       "  'cor': 'a',\n",
       "  'diff': {'idx': 2, 'new': 'a'},\n",
       "  'alt': []},\n",
       " {'score': 0, 'idx': 3, 'src': 'boy', 'cor': 'boy', 'diff': {}},\n",
       " {'score': 0, 'idx': 4, 'src': '.', 'cor': '.', 'diff': {}}]"
      ]
     },
     "execution_count": 14,
     "metadata": {},
     "output_type": "execute_result"
    }
   ],
   "source": [
    "diff(src, corrected)"
   ]
  },
  {
   "cell_type": "code",
   "execution_count": null,
   "metadata": {},
   "outputs": [],
   "source": []
  },
  {
   "cell_type": "code",
   "execution_count": null,
   "metadata": {},
   "outputs": [],
   "source": []
  }
 ],
 "metadata": {
  "kernelspec": {
   "display_name": "Python 3",
   "language": "python",
   "name": "python3"
  },
  "language_info": {
   "codemirror_mode": {
    "name": "ipython",
    "version": 3
   },
   "file_extension": ".py",
   "mimetype": "text/x-python",
   "name": "python",
   "nbconvert_exporter": "python",
   "pygments_lexer": "ipython3",
   "version": "3.6.9"
  }
 },
 "nbformat": 4,
 "nbformat_minor": 4
}
